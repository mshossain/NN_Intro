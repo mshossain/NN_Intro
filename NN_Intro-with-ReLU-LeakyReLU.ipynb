{
 "cells": [
  {
   "cell_type": "code",
   "execution_count": 1,
   "id": "9345fda6",
   "metadata": {},
   "outputs": [],
   "source": [
    "import numpy as np\n",
    "import pandas as pd\n",
    "import matplotlib.pyplot as plt"
   ]
  },
  {
   "cell_type": "code",
   "execution_count": 2,
   "id": "74716e90",
   "metadata": {},
   "outputs": [],
   "source": [
    "df=pd.read_csv(\"Pecan.txt\", delimiter=\"\\t\")"
   ]
  },
  {
   "cell_type": "code",
   "execution_count": 3,
   "id": "846481e4",
   "metadata": {},
   "outputs": [
    {
     "data": {
      "text/plain": [
       "<matplotlib.collections.PathCollection at 0x14e19c154d0>"
      ]
     },
     "execution_count": 3,
     "metadata": {},
     "output_type": "execute_result"
    },
    {
     "data": {
      "image/png": "[encoded data removed]",
      "text/plain": [
       "<Figure size 640x480 with 1 Axes>"
      ]
     },
     "metadata": {},
     "output_type": "display_data"
    }
   ],
   "source": [
    "plt.scatter(df['Salinity level'], df['Pecan Yield'])"
   ]
  },
  {
   "cell_type": "code",
   "execution_count": 4,
   "id": "09911309",
   "metadata": {},
   "outputs": [],
   "source": [
    "# Remove the Row ID column\n",
    "data = df.drop(columns=['Row ID'])"
   ]
  },
  {
   "cell_type": "code",
   "execution_count": 5,
   "id": "6e4b1994",
   "metadata": {},
   "outputs": [],
   "source": [
    "# Define input (features) and output (target)\n",
    "X = data.drop(columns=['Pecan Yield']).values\n",
    "y = data['Pecan Yield'].values"
   ]
  },
  {
   "cell_type": "code",
   "execution_count": 6,
   "id": "2f591d99",
   "metadata": {},
   "outputs": [],
   "source": [
    "# pip install torch scikit-learn\n",
    "import torch\n",
    "import torch.nn as nn\n",
    "import torch.nn.functional as F\n",
    "import torch.optim as optim\n",
    "from sklearn.model_selection import train_test_split\n",
    "from sklearn.preprocessing import StandardScaler\n",
    "from torch.utils.data import DataLoader, TensorDataset"
   ]
  },
  {
   "cell_type": "code",
   "execution_count": 7,
   "id": "c5a46a52",
   "metadata": {},
   "outputs": [],
   "source": [
    "# Split the data into training and test sets (80/20 split)\n",
    "X_train, X_test, y_train, y_test = \\\n",
    "train_test_split(X, y, test_size=0.2, random_state=42)\n",
    "#  Specifies the proportion of the dataset that \n",
    "# should be allocated to the test set. \n",
    "# Here, 0.2 means 20% of the data will be used\n",
    "# for testing, and the remaining 80% will be \n",
    "# used for training."
   ]
  },
  {
   "cell_type": "code",
   "execution_count": 8,
   "id": "49de71d3",
   "metadata": {},
   "outputs": [],
   "source": [
    "# Standardize the data\n",
    "scaler = StandardScaler()\n",
    "X_train = scaler.fit_transform(X_train)\n",
    "X_test = scaler.transform(X_test)\n",
    "\n",
    "# StandardScaler: This is a class from \n",
    "# Scikit-learn used to standardize \n",
    "# features by removing the mean and \n",
    "# scaling to unit variance.\n",
    "# Standardization: This process involves\n",
    "# rescaling the features so that they have \n",
    "# a mean of 0 and a standard deviation of 1.\n",
    "# This is important for many machine learning\n",
    "# algorithms that perform better when \n",
    "# features are on a similar scale.\n",
    "\n",
    "# This process is crucial for ensuring \n",
    "# that the model performs consistently,\n",
    "# as many machine learning algorithms \n",
    "# assume or perform better when the \n",
    "# input features are on a similar scale.\n"
   ]
  },
  {
   "cell_type": "code",
   "execution_count": 9,
   "id": "0743cfa2",
   "metadata": {},
   "outputs": [],
   "source": [
    "# Convert data to PyTorch tensors\n",
    "X_train_tensor = torch.tensor(\n",
    "    X_train, dtype=torch.float32)\n",
    "\n",
    "# torch.tensor(X_train): Converts \n",
    "# the X_train data (which is likely \n",
    "# a NumPy array or a Pandas \n",
    "# DataFrame) into a PyTorch tensor.\n",
    "# dtype=torch.float32: Specifies that \n",
    "# the data type of the tensor should \n",
    "# be float32, which is a common \n",
    "# choice for numerical data in \n",
    "# deep learning models.\n",
    "# Result: X_train_tensor is now a \n",
    "# PyTorch tensor containing the \n",
    "# standardized training input data, \n",
    "# ready for use in a neural network.\n",
    "\n",
    "y_train_tensor = torch.tensor(\n",
    "    y_train, dtype=torch.float32).view(-1, 1)\n",
    "\n",
    "# torch.tensor(y_train): Converts the \n",
    "# y_train data (the target variable \n",
    "# for training) into a PyTorch tensor.\n",
    "# .view(-1, 1): Reshapes the tensor \n",
    "# to have a shape of (-1, 1). \n",
    "# Here, -1 is a placeholder that tells \n",
    "# PyTorch to infer the correct size for \n",
    "# this dimension based on the other \n",
    "# dimensions. This ensures \n",
    "# that y_train_tensor has two dimensions, \n",
    "# with the second dimension being 1 \n",
    "# (i.e., a column vector).\n",
    "# Result: y_train_tensor is now a 2D \n",
    "# tensor with shape (n_samples, 1), \n",
    "# where n_samples is the number of \n",
    "# training samples.\n",
    "\n",
    "X_test_tensor = torch.tensor(\n",
    "    X_test, dtype=torch.float32)\n",
    "y_test_tensor = torch.tensor(\n",
    "    y_test, dtype=torch.float32).view(-1, 1)"
   ]
  },
  {
   "cell_type": "code",
   "execution_count": 10,
   "id": "6df318eb",
   "metadata": {},
   "outputs": [],
   "source": [
    "# Create DataLoader for batching\n",
    "train_dataset = TensorDataset(\n",
    "    X_train_tensor, y_train_tensor)\n",
    "train_loader = DataLoader(\n",
    "    train_dataset, batch_size=16, shuffle=True)"
   ]
  },
  {
   "cell_type": "code",
   "execution_count": 11,
   "id": "84fac1a5",
   "metadata": {},
   "outputs": [
    {
     "data": {
      "text/plain": [
       "3"
      ]
     },
     "execution_count": 11,
     "metadata": {},
     "output_type": "execute_result"
    }
   ],
   "source": [
    "X_train.shape[1]"
   ]
  },
  {
   "cell_type": "code",
   "execution_count": 12,
   "id": "24214ba2",
   "metadata": {},
   "outputs": [],
   "source": [
    "# Define the neural network model\n",
    "#  defines a new class NeuralNetwork \n",
    "# that inherits from nn.Module. \n",
    "# By inheriting from nn.Module, \n",
    "# the NeuralNetwork class gains access \n",
    "# to all the functionalities provided \n",
    "# by PyTorch for building and managing neural networks.\n",
    "class NeuralNetwork(nn.Module):\n",
    "    def __init__(self): # Constructor\n",
    "        # Start by calling the constructor of \n",
    "        # the parent class (nn.Module), ensuring \n",
    "        # that the class is properly initialized.\n",
    "        super(NeuralNetwork, self).__init__()\n",
    "        # nn.Linear creates a fully connected (linear) layer.\n",
    "        self.fc1 = nn.Linear(X_train.shape[1], 32)\n",
    "        self.fc2 = nn.Linear(32, 64)\n",
    "        self.fc3 = nn.Linear(64, 1)\n",
    "\n",
    "    # The forward method defines the forward pass of \n",
    "    # the network. It specifies how the input tensor\n",
    "    # x should flow through the layers of the network.\n",
    "    def forward(self, x):        \n",
    "        x = self.fc1(x)\n",
    "        x=F.leaky_relu(x, negative_slope=0.01)  # x=torch.relu(x)\n",
    "        x = self.fc2(x)\n",
    "        x=F.leaky_relu(x, negative_slope=0.01) # x=torch.relu(x)\n",
    "        x = self.fc3(x)  # Output layer    \n",
    "        return x"
   ]
  },
  {
   "cell_type": "code",
   "execution_count": 13,
   "id": "a26d9226",
   "metadata": {},
   "outputs": [],
   "source": [
    "# Initialize the model, loss function, and optimizer\n",
    "model = NeuralNetwork()\n",
    "criterion = nn.L1Loss() # for mean absoluste loss\n",
    "# criterion = nn.MSELoss()\n",
    "optimizer = optim.Adam(\n",
    "    model.parameters(), lr=0.01)\n",
    "\n",
    "# optim.Adam: This creates an optimizer using the \n",
    "# Adam algorithm, which is a popular optimization\n",
    "# algorithm that combines the advantages of two \n",
    "# other algorithms: AdaGrad and RMSProp. It adjusts\n",
    "# the learning rate for each parameter individually\n",
    "# based on estimates of lower-order moments.\n",
    "# model.parameters(): This passes the model's\n",
    "# parameters (weights and biases) to the optimizer.\n",
    "# The optimizer will update these parameters during\n",
    "# training based on the computed gradients.\n",
    "# lr=0.01: This sets the learning rate, which \n",
    "# controls how much to adjust the model parameters\n",
    "# with respect to the gradient. A learning rate of\n",
    "# 0.01 is relatively standard, but it may need \n",
    "# tuning depending on the problem.\n"
   ]
  },
  {
   "cell_type": "markdown",
   "id": "2735c4f5-d7b3-42cb-891e-aa7f698ad04c",
   "metadata": {},
   "source": [
    "$$\n",
    "\\text{MAE} = \\frac{1}{n} \\sum_{i=1}^{n} |y_i - \\hat{y}_i|\n",
    "$$\\]"
   ]
  },
  {
   "cell_type": "markdown",
   "id": "ada0f67c-6678-4cdc-a700-0747c7b7f91e",
   "metadata": {},
   "source": [
    "\n",
    "$$\n",
    "\\text{MSE} = \\frac{1}{n} \\sum_{i=1}^{n} (y_i - \\hat{y}_i)^2\n",
    "$$"
   ]
  },
  {
   "cell_type": "code",
   "execution_count": 14,
   "id": "6b54385e",
   "metadata": {},
   "outputs": [
    {
     "name": "stdout",
     "output_type": "stream",
     "text": [
      "Epoch 1/200, Average Loss: 438.1989\n",
      "Epoch 2/200, Average Loss: 435.7981\n",
      "Epoch 3/200, Average Loss: 435.2882\n",
      "Epoch 4/200, Average Loss: 430.4089\n",
      "Epoch 5/200, Average Loss: 424.3401\n",
      "Epoch 6/200, Average Loss: 417.2837\n",
      "Epoch 7/200, Average Loss: 409.5441\n",
      "Epoch 8/200, Average Loss: 393.6500\n",
      "Epoch 9/200, Average Loss: 374.9861\n",
      "Epoch 10/200, Average Loss: 356.6382\n",
      "Epoch 11/200, Average Loss: 332.1789\n",
      "Epoch 12/200, Average Loss: 294.9758\n",
      "Epoch 13/200, Average Loss: 253.1527\n",
      "Epoch 14/200, Average Loss: 220.9356\n",
      "Epoch 15/200, Average Loss: 190.2700\n",
      "Epoch 16/200, Average Loss: 158.5062\n",
      "Epoch 17/200, Average Loss: 121.5469\n",
      "Epoch 18/200, Average Loss: 103.7166\n",
      "Epoch 19/200, Average Loss: 105.3115\n",
      "Epoch 20/200, Average Loss: 102.7310\n",
      "Epoch 21/200, Average Loss: 94.9879\n",
      "Epoch 22/200, Average Loss: 86.6960\n",
      "Epoch 23/200, Average Loss: 75.0179\n",
      "Epoch 24/200, Average Loss: 65.8227\n",
      "Epoch 25/200, Average Loss: 62.1731\n",
      "Epoch 26/200, Average Loss: 56.2441\n",
      "Epoch 27/200, Average Loss: 45.3044\n",
      "Epoch 28/200, Average Loss: 39.5031\n",
      "Epoch 29/200, Average Loss: 35.1242\n",
      "Epoch 30/200, Average Loss: 28.6157\n",
      "Epoch 31/200, Average Loss: 25.0390\n",
      "Epoch 32/200, Average Loss: 24.8155\n",
      "Epoch 33/200, Average Loss: 19.5413\n",
      "Epoch 34/200, Average Loss: 16.3812\n",
      "Epoch 35/200, Average Loss: 13.1654\n",
      "Epoch 36/200, Average Loss: 11.6682\n",
      "Epoch 37/200, Average Loss: 12.2881\n",
      "Epoch 38/200, Average Loss: 10.5256\n",
      "Epoch 39/200, Average Loss: 9.8912\n",
      "Epoch 40/200, Average Loss: 9.2172\n",
      "Epoch 41/200, Average Loss: 8.8558\n",
      "Epoch 42/200, Average Loss: 8.4757\n",
      "Epoch 43/200, Average Loss: 8.5355\n",
      "Epoch 44/200, Average Loss: 7.4259\n",
      "Epoch 45/200, Average Loss: 7.5789\n",
      "Epoch 46/200, Average Loss: 7.5130\n",
      "Epoch 47/200, Average Loss: 6.8109\n",
      "Epoch 48/200, Average Loss: 6.1626\n",
      "Epoch 49/200, Average Loss: 6.4007\n",
      "Epoch 50/200, Average Loss: 6.1451\n",
      "Epoch 51/200, Average Loss: 5.7359\n",
      "Epoch 52/200, Average Loss: 5.8762\n",
      "Epoch 53/200, Average Loss: 5.8012\n",
      "Epoch 54/200, Average Loss: 6.4497\n",
      "Epoch 55/200, Average Loss: 6.9486\n",
      "Epoch 56/200, Average Loss: 6.1529\n",
      "Epoch 57/200, Average Loss: 6.0773\n",
      "Epoch 58/200, Average Loss: 7.0285\n",
      "Epoch 59/200, Average Loss: 5.7908\n",
      "Epoch 60/200, Average Loss: 5.6591\n",
      "Epoch 61/200, Average Loss: 6.4443\n",
      "Epoch 62/200, Average Loss: 5.8559\n",
      "Epoch 63/200, Average Loss: 7.3700\n",
      "Epoch 64/200, Average Loss: 7.0307\n",
      "Epoch 65/200, Average Loss: 6.0943\n",
      "Epoch 66/200, Average Loss: 6.9336\n",
      "Epoch 67/200, Average Loss: 5.4392\n",
      "Epoch 68/200, Average Loss: 5.4753\n",
      "Epoch 69/200, Average Loss: 5.2120\n",
      "Epoch 70/200, Average Loss: 5.8731\n",
      "Epoch 71/200, Average Loss: 6.4532\n",
      "Epoch 72/200, Average Loss: 4.9297\n",
      "Epoch 73/200, Average Loss: 6.3219\n",
      "Epoch 74/200, Average Loss: 5.2565\n",
      "Epoch 75/200, Average Loss: 5.0314\n",
      "Epoch 76/200, Average Loss: 5.3890\n",
      "Epoch 77/200, Average Loss: 4.7703\n",
      "Epoch 78/200, Average Loss: 5.6835\n",
      "Epoch 79/200, Average Loss: 5.9643\n",
      "Epoch 80/200, Average Loss: 5.2864\n",
      "Epoch 81/200, Average Loss: 5.6962\n",
      "Epoch 82/200, Average Loss: 5.7601\n",
      "Epoch 83/200, Average Loss: 4.9889\n",
      "Epoch 84/200, Average Loss: 4.5656\n",
      "Epoch 85/200, Average Loss: 5.2017\n",
      "Epoch 86/200, Average Loss: 5.2376\n",
      "Epoch 87/200, Average Loss: 5.4973\n",
      "Epoch 88/200, Average Loss: 7.1659\n",
      "Epoch 89/200, Average Loss: 7.3024\n",
      "Epoch 90/200, Average Loss: 8.8980\n",
      "Epoch 91/200, Average Loss: 8.1390\n",
      "Epoch 92/200, Average Loss: 7.8450\n",
      "Epoch 93/200, Average Loss: 6.6584\n",
      "Epoch 94/200, Average Loss: 6.7884\n",
      "Epoch 95/200, Average Loss: 5.7966\n",
      "Epoch 96/200, Average Loss: 6.8404\n",
      "Epoch 97/200, Average Loss: 5.4960\n",
      "Epoch 98/200, Average Loss: 4.5408\n",
      "Epoch 99/200, Average Loss: 6.5662\n",
      "Epoch 100/200, Average Loss: 6.0086\n",
      "Epoch 101/200, Average Loss: 6.6743\n",
      "Epoch 102/200, Average Loss: 4.8428\n",
      "Epoch 103/200, Average Loss: 5.0321\n",
      "Epoch 104/200, Average Loss: 7.9679\n",
      "Epoch 105/200, Average Loss: 5.4202\n",
      "Epoch 106/200, Average Loss: 5.0795\n",
      "Epoch 107/200, Average Loss: 6.0320\n",
      "Epoch 108/200, Average Loss: 5.9519\n",
      "Epoch 109/200, Average Loss: 5.5355\n",
      "Epoch 110/200, Average Loss: 5.6607\n",
      "Epoch 111/200, Average Loss: 5.0839\n",
      "Epoch 112/200, Average Loss: 4.5335\n",
      "Epoch 113/200, Average Loss: 4.4256\n",
      "Epoch 114/200, Average Loss: 4.7490\n",
      "Epoch 115/200, Average Loss: 4.4586\n",
      "Epoch 116/200, Average Loss: 4.3668\n",
      "Epoch 117/200, Average Loss: 4.7348\n",
      "Epoch 118/200, Average Loss: 4.5074\n",
      "Epoch 119/200, Average Loss: 4.5335\n",
      "Epoch 120/200, Average Loss: 6.8275\n",
      "Epoch 121/200, Average Loss: 5.5836\n",
      "Epoch 122/200, Average Loss: 5.4630\n",
      "Epoch 123/200, Average Loss: 6.5712\n",
      "Epoch 124/200, Average Loss: 5.4772\n",
      "Epoch 125/200, Average Loss: 6.4546\n",
      "Epoch 126/200, Average Loss: 5.8421\n",
      "Epoch 127/200, Average Loss: 7.1690\n",
      "Epoch 128/200, Average Loss: 6.1111\n",
      "Epoch 129/200, Average Loss: 4.6928\n",
      "Epoch 130/200, Average Loss: 6.2141\n",
      "Epoch 131/200, Average Loss: 4.3973\n",
      "Epoch 132/200, Average Loss: 7.4237\n",
      "Epoch 133/200, Average Loss: 4.9348\n",
      "Epoch 134/200, Average Loss: 5.1978\n",
      "Epoch 135/200, Average Loss: 4.3115\n",
      "Epoch 136/200, Average Loss: 5.1341\n",
      "Epoch 137/200, Average Loss: 4.5935\n",
      "Epoch 138/200, Average Loss: 4.1129\n",
      "Epoch 139/200, Average Loss: 4.1977\n",
      "Epoch 140/200, Average Loss: 4.5230\n",
      "Epoch 141/200, Average Loss: 5.3324\n",
      "Epoch 142/200, Average Loss: 5.2031\n",
      "Epoch 143/200, Average Loss: 6.4723\n",
      "Epoch 144/200, Average Loss: 4.5767\n",
      "Epoch 145/200, Average Loss: 4.9810\n",
      "Epoch 146/200, Average Loss: 4.3897\n",
      "Epoch 147/200, Average Loss: 4.3785\n",
      "Epoch 148/200, Average Loss: 4.9594\n",
      "Epoch 149/200, Average Loss: 8.4685\n",
      "Epoch 150/200, Average Loss: 4.9860\n",
      "Epoch 151/200, Average Loss: 5.2454\n",
      "Epoch 152/200, Average Loss: 4.9505\n",
      "Epoch 153/200, Average Loss: 4.5319\n",
      "Epoch 154/200, Average Loss: 4.1618\n",
      "Epoch 155/200, Average Loss: 5.1156\n",
      "Epoch 156/200, Average Loss: 5.0507\n",
      "Epoch 157/200, Average Loss: 4.0948\n",
      "Epoch 158/200, Average Loss: 4.6558\n",
      "Epoch 159/200, Average Loss: 4.9061\n",
      "Epoch 160/200, Average Loss: 4.5800\n",
      "Epoch 161/200, Average Loss: 4.2776\n",
      "Epoch 162/200, Average Loss: 4.1143\n",
      "Epoch 163/200, Average Loss: 4.7959\n",
      "Epoch 164/200, Average Loss: 5.2601\n",
      "Epoch 165/200, Average Loss: 4.9947\n",
      "Epoch 166/200, Average Loss: 5.0269\n",
      "Epoch 167/200, Average Loss: 5.6629\n",
      "Epoch 168/200, Average Loss: 4.9973\n",
      "Epoch 169/200, Average Loss: 4.5949\n",
      "Epoch 170/200, Average Loss: 4.3298\n",
      "Epoch 171/200, Average Loss: 3.7199\n",
      "Epoch 172/200, Average Loss: 4.1081\n",
      "Epoch 173/200, Average Loss: 4.1206\n",
      "Epoch 174/200, Average Loss: 3.6382\n",
      "Epoch 175/200, Average Loss: 4.1834\n",
      "Epoch 176/200, Average Loss: 4.2015\n",
      "Epoch 177/200, Average Loss: 4.9093\n",
      "Epoch 178/200, Average Loss: 5.9091\n",
      "Epoch 179/200, Average Loss: 6.2137\n",
      "Epoch 180/200, Average Loss: 5.4129\n",
      "Epoch 181/200, Average Loss: 6.4366\n",
      "Epoch 182/200, Average Loss: 4.7130\n",
      "Epoch 183/200, Average Loss: 7.6768\n",
      "Epoch 184/200, Average Loss: 5.4479\n",
      "Epoch 185/200, Average Loss: 5.6378\n",
      "Epoch 186/200, Average Loss: 4.8994\n",
      "Epoch 187/200, Average Loss: 4.9462\n",
      "Epoch 188/200, Average Loss: 7.0548\n",
      "Epoch 189/200, Average Loss: 4.3857\n",
      "Epoch 190/200, Average Loss: 7.3153\n",
      "Epoch 191/200, Average Loss: 5.6291\n",
      "Epoch 192/200, Average Loss: 4.6919\n",
      "Epoch 193/200, Average Loss: 3.7618\n",
      "Epoch 194/200, Average Loss: 5.0455\n",
      "Epoch 195/200, Average Loss: 6.1678\n",
      "Epoch 196/200, Average Loss: 4.6050\n",
      "Epoch 197/200, Average Loss: 4.5184\n",
      "Epoch 198/200, Average Loss: 5.8717\n",
      "Epoch 199/200, Average Loss: 6.0378\n",
      "Epoch 200/200, Average Loss: 5.3117\n"
     ]
    }
   ],
   "source": [
    "# Training loop\n",
    "epochs = 200\n",
    "for epoch in range(epochs):\n",
    "    # Set the model to training mode. This is \n",
    "    # important because certain layers, such \n",
    "    # as dropout or batch normalization, behave\n",
    "    # differently during training than during \n",
    "    # evaluation. model.train() ensures that \n",
    "    # these layers are in training mode.\n",
    "    model.train()\n",
    "    total_loss = 0  # Initialize total loss for the epoch\n",
    "\n",
    "    for batch_X, batch_y in train_loader:\n",
    "        # Resets the gradients of all model parameters\n",
    "        # to zero before starting the backpropagation\n",
    "        # process for the current batch. This is \n",
    "        # important because gradients are accumulated\n",
    "        # by default in PyTorch, so they need to be\n",
    "        # cleared out before calculating the gradients\n",
    "        # for the current batch.\n",
    "        optimizer.zero_grad()\n",
    "        predictions = model(batch_X)\n",
    "        # Compute the loss between the model's \n",
    "        # predictions and the actual target values \n",
    "        # (batch_y).\n",
    "        loss = criterion(predictions, batch_y)\n",
    "        # Compute the gradients of the loss with \n",
    "        # respect to each model parameter using \n",
    "        # backpropagation. These gradients are \n",
    "        # used to update the model parameters \n",
    "        # in the next step.\n",
    "        loss.backward()\n",
    "        \n",
    "        optimizer.step()\n",
    "\n",
    "        total_loss += loss.item()  # Accumulate the loss for each batch\n",
    "\n",
    "    average_loss = total_loss / len(train_loader)  # Compute the average loss for the epoch    \n",
    "    print(f'Epoch {epoch+1}/{epochs}, Average Loss: {average_loss:.4f}')\n"
   ]
  },
  {
   "cell_type": "code",
   "execution_count": 15,
   "id": "b23c8163",
   "metadata": {},
   "outputs": [
    {
     "name": "stdout",
     "output_type": "stream",
     "text": [
      "Test Loss: 7.3876\n"
     ]
    }
   ],
   "source": [
    "# Evaluate the model on the test set\n",
    "# Switch to Evaluation Mode. In this mode, \n",
    "# certain layers like dropout and batch normalization, \n",
    "# which behave differently during training, will \n",
    "# operate in evaluation mode, meaning they won't \n",
    "# apply dropout or update running statistics.\n",
    "# Why Use eval()?: This ensures that the \n",
    "# model's behavior is consistent during \n",
    "# testing and that the evaluation reflects\n",
    "# the true performance on unseen data.\n",
    "\n",
    "model.eval()\n",
    "\n",
    "# Disabling Gradient Calculation.\n",
    "# The torch.no_grad() context manager \n",
    "# temporarily disables gradient computation. \n",
    "# Since gradients are only necessary during \n",
    "# training (when you need to update the \n",
    "# model's parameters), disabling them \n",
    "# during evaluation saves memory and \n",
    "# computational resources because\n",
    "# pytorch will not track the operations\n",
    "# for that it might need later for gradient\n",
    "# computation.\n",
    "with torch.no_grad():\n",
    "    test_predictions = model(X_test_tensor)\n",
    "    test_loss = criterion(\n",
    "        test_predictions, y_test_tensor)\n",
    "    print(f'Test Loss: {test_loss.item():.4f}')"
   ]
  },
  {
   "cell_type": "code",
   "execution_count": 16,
   "id": "5af858ea",
   "metadata": {},
   "outputs": [
    {
     "data": {
      "text/plain": [
       "[tensor([[439.6256],\n",
       "         [508.6884],\n",
       "         [328.9977],\n",
       "         [494.3349],\n",
       "         [483.5022],\n",
       "         [475.4073],\n",
       "         [438.1123],\n",
       "         [533.4117],\n",
       "         [326.2802],\n",
       "         [371.2693],\n",
       "         [357.7087],\n",
       "         [429.1160]]),\n",
       " tensor([[430.4150],\n",
       "         [500.0000],\n",
       "         [316.7512],\n",
       "         [490.2917],\n",
       "         [487.6102],\n",
       "         [477.7354],\n",
       "         [420.0000],\n",
       "         [535.8058],\n",
       "         [314.3954],\n",
       "         [365.5778],\n",
       "         [350.0000],\n",
       "         [426.8807]])]"
      ]
     },
     "execution_count": 16,
     "metadata": {},
     "output_type": "execute_result"
    }
   ],
   "source": [
    "[test_predictions, y_test_tensor]"
   ]
  },
  {
   "cell_type": "code",
   "execution_count": 17,
   "id": "d1faa338",
   "metadata": {},
   "outputs": [],
   "source": [
    "# Print weights and biases for each layer in the model\n",
    "def print_weights_and_biases(model):\n",
    "    for name, param in model.named_parameters():\n",
    "        if param.requires_grad:\n",
    "            print(f\"Layer: {name}\")\n",
    "            print(f\"Values:\\n{param.data}\\n\")"
   ]
  },
  {
   "cell_type": "code",
   "execution_count": 18,
   "id": "64e196a2",
   "metadata": {},
   "outputs": [
    {
     "name": "stdout",
     "output_type": "stream",
     "text": [
      "Layer: fc1.weight\n",
      "Values:\n",
      "tensor([[-0.2838, -0.5385,  0.4280],\n",
      "        [ 0.8322, -0.6214,  0.6849],\n",
      "        [-0.4141,  0.9010, -0.7471],\n",
      "        [ 0.9529, -1.0301,  0.7717],\n",
      "        [ 0.7257, -0.2151,  0.8177],\n",
      "        [-0.1737, -0.7952, -0.5588],\n",
      "        [-0.6753,  0.3643, -0.2603],\n",
      "        [-0.8063,  0.5553, -0.8816],\n",
      "        [ 0.8918, -0.6487,  0.8875],\n",
      "        [ 0.4598, -0.5047,  0.0798],\n",
      "        [ 0.4995, -0.2721,  0.5186],\n",
      "        [-0.5367,  0.1293, -0.1387],\n",
      "        [ 0.2091,  0.6143, -0.6836],\n",
      "        [-0.6738,  0.3797,  0.3034],\n",
      "        [-0.0103, -0.3266, -0.2405],\n",
      "        [ 0.0361,  0.0218,  0.3611],\n",
      "        [-0.4846,  0.5205, -0.0505],\n",
      "        [-0.1042,  0.5929, -0.2307],\n",
      "        [ 0.4953,  0.2424, -0.1432],\n",
      "        [ 0.8315, -0.4074,  0.5371],\n",
      "        [-0.6415,  0.3578, -0.2271],\n",
      "        [-0.6294,  0.1296,  0.0137],\n",
      "        [-0.8083, -0.3085, -0.4704],\n",
      "        [ 0.0119, -0.4073,  0.7258],\n",
      "        [-0.3855,  0.0222,  0.2902],\n",
      "        [-0.4356,  0.3317, -0.1935],\n",
      "        [-0.7392,  0.6251, -0.5321],\n",
      "        [ 0.3929,  0.2096,  0.0797],\n",
      "        [-0.2591,  0.0978, -0.0446],\n",
      "        [ 0.1458,  0.4378, -0.5681],\n",
      "        [ 0.6127, -0.0112, -0.2469],\n",
      "        [-0.8359,  0.4683, -0.7923]])\n",
      "\n",
      "Layer: fc1.bias\n",
      "Values:\n",
      "tensor([ 1.5409,  0.1895,  0.4102, -0.0933,  1.1563,  1.0568,  1.5446, -0.7187,\n",
      "         1.2096,  1.6248,  0.7084,  1.0042,  1.4342,  1.3978,  1.4257,  1.5025,\n",
      "         1.4228,  1.3398,  1.2455,  1.0054,  1.4684,  1.3985,  0.8463,  0.8872,\n",
      "        -1.4235,  1.3032, -0.6137,  1.4366, -1.4814,  1.2234,  1.3340, -0.6844])\n",
      "\n",
      "Layer: fc2.weight\n",
      "Values:\n",
      "tensor([[-0.1061, -0.1646, -0.2341,  ..., -0.0274, -0.1177,  0.2855],\n",
      "        [ 0.7522,  0.5251,  0.4380,  ...,  0.5567,  0.8077, -1.1644],\n",
      "        [-0.8077, -0.3382, -0.4515,  ..., -0.3852, -0.7732,  1.2146],\n",
      "        ...,\n",
      "        [ 0.7046,  0.5958,  0.4858,  ...,  0.3798,  0.7907, -1.2293],\n",
      "        [-0.6517, -0.5095, -0.5049,  ..., -0.5380, -0.9082,  1.2498],\n",
      "        [ 0.8503,  0.5074,  0.5690,  ...,  0.6136,  0.6850, -1.0547]])\n",
      "\n",
      "Layer: fc2.bias\n",
      "Values:\n",
      "tensor([-0.1690,  0.6774, -0.9794,  0.7093,  0.9911,  0.8803,  0.9250,  0.9327,\n",
      "         0.9284,  0.9051, -0.7542, -0.1161, -0.9451,  0.6792,  0.8633,  0.9292,\n",
      "         0.7395, -0.2474, -0.2850, -1.0146, -0.5669, -0.6378, -0.4016, -1.0069,\n",
      "         0.7449,  1.0198, -0.9323,  0.9955,  0.8545, -0.9536, -0.0303, -0.5304,\n",
      "        -0.3498,  0.0221, -0.7239,  0.7220,  0.9361,  0.6708,  0.8240,  0.7315,\n",
      "         0.9025,  0.8363, -0.5623, -0.9983, -0.1164,  0.8913,  0.9701, -0.8784,\n",
      "         0.3937, -0.1797, -0.6326,  0.8255, -0.1877, -0.9609,  0.9101,  0.9980,\n",
      "         0.7877,  0.8587, -0.4314,  0.6782,  0.8912,  0.6894, -0.9992,  0.9664])\n",
      "\n",
      "Layer: fc3.weight\n",
      "Values:\n",
      "tensor([[-0.0668,  0.5965, -0.6978,  0.6402,  0.6082,  0.6058,  0.6625,  0.7348,\n",
      "          0.5869,  0.6056, -0.6929, -0.0736, -0.5883,  0.6828,  0.6227,  0.6506,\n",
      "          0.6412, -0.0786, -0.0322, -0.6340, -0.5118, -0.7186, -0.5240, -0.6379,\n",
      "          0.6240,  0.6445, -0.6292,  0.7005,  0.6919, -0.6114,  0.0371, -0.4922,\n",
      "         -0.4570,  0.0063, -0.7225,  0.6444,  0.6851,  0.6450,  0.7235,  0.7033,\n",
      "          0.7074,  0.7110, -0.4527, -0.6801, -0.1518,  0.6983,  0.6248, -0.7096,\n",
      "          0.1486, -0.3968, -0.5473,  0.6217, -0.0197, -0.6827,  0.6186,  0.6417,\n",
      "          0.6486,  0.5465, -0.5465,  0.5841,  0.6130,  0.7316, -0.6746,  0.6481]])\n",
      "\n",
      "Layer: fc3.bias\n",
      "Values:\n",
      "tensor([0.7042])\n",
      "\n"
     ]
    }
   ],
   "source": [
    "# Call the function to print weights and biases\n",
    "print_weights_and_biases(model)"
   ]
  },
  {
   "cell_type": "code",
   "execution_count": 19,
   "id": "b0e39717",
   "metadata": {},
   "outputs": [],
   "source": [
    "myData = [[90, 12, 52],\n",
    "          [83, 15, 50],\n",
    "          [100, 2, 90]]\n",
    "\n",
    "myData_transformed = scaler.transform(myData)\n",
    "\n",
    "myData_tensor= torch.tensor(\n",
    "    myData_transformed, dtype=torch.float32)\n"
   ]
  },
  {
   "cell_type": "code",
   "execution_count": 20,
   "id": "65401cba-08cf-42d4-8f1f-235517e9ff1c",
   "metadata": {},
   "outputs": [],
   "source": [
    "model.eval()\n",
    "with torch.no_grad():\n",
    "    predictions = model(myData_tensor)\n"
   ]
  },
  {
   "cell_type": "code",
   "execution_count": 21,
   "id": "9c2f5801-777d-49cf-8acb-bbfb47169319",
   "metadata": {},
   "outputs": [
    {
     "data": {
      "text/plain": [
       "tensor([[493.8405],\n",
       "        [470.1354],\n",
       "        [769.3289]])"
      ]
     },
     "execution_count": 21,
     "metadata": {},
     "output_type": "execute_result"
    }
   ],
   "source": [
    "predictions"
   ]
  },
  {
   "cell_type": "code",
   "execution_count": 22,
   "id": "698087e7-dd54-4fc2-bdab-e56d03e7eb79",
   "metadata": {},
   "outputs": [
    {
     "data": {
      "text/plain": [
       "[[90, 12, 52], [83, 15, 50], [100, 2, 90]]"
      ]
     },
     "execution_count": 22,
     "metadata": {},
     "output_type": "execute_result"
    }
   ],
   "source": [
    "myData"
   ]
  },
  {
   "cell_type": "code",
   "execution_count": 23,
   "id": "f17016ba-d822-469d-9a3d-7e7fa4afaae0",
   "metadata": {},
   "outputs": [
    {
     "data": {
      "text/plain": [
       "array([[ 0.53314162, -1.42914842,  0.42526729],\n",
       "       [ 0.18871365, -0.98567586,  0.22595528],\n",
       "       [ 1.02518157, -2.90739028,  4.21219547]])"
      ]
     },
     "execution_count": 23,
     "metadata": {},
     "output_type": "execute_result"
    }
   ],
   "source": [
    "myData_transformed"
   ]
  },
  {
   "cell_type": "code",
   "execution_count": null,
   "id": "8e79616d-7ec1-4fd3-ab96-f673a3cbc9bd",
   "metadata": {},
   "outputs": [],
   "source": []
  }
 ],
 "metadata": {
  "kernelspec": {
   "display_name": "Python 3 (ipykernel)",
   "language": "python",
   "name": "python3"
  },
  "language_info": {
   "codemirror_mode": {
    "name": "ipython",
    "version": 3
   },
   "file_extension": ".py",
   "mimetype": "text/x-python",
   "name": "python",
   "nbconvert_exporter": "python",
   "pygments_lexer": "ipython3",
   "version": "3.11.4"
  }
 },
 "nbformat": 4,
 "nbformat_minor": 5
}
