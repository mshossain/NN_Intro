{
 "cells": [
  {
   "cell_type": "code",
   "execution_count": 1,
   "id": "9345fda6",
   "metadata": {},
   "outputs": [],
   "source": [
    "import numpy as np\n",
    "import pandas as pd\n",
    "import matplotlib.pyplot as plt"
   ]
  },
  {
   "cell_type": "code",
   "execution_count": 2,
   "id": "74716e90",
   "metadata": {},
   "outputs": [],
   "source": [
    "df=pd.read_csv(\"Pecan.txt\", delimiter=\"\\t\")"
   ]
  },
  {
   "cell_type": "code",
   "execution_count": 3,
   "id": "846481e4",
   "metadata": {},
   "outputs": [
    {
     "data": {
      "text/plain": [
       "<matplotlib.collections.PathCollection at 0x14af2c89dd0>"
      ]
     },
     "execution_count": 3,
     "metadata": {},
     "output_type": "execute_result"
    },
    {
     "data": {
      "image/png": "[encoded data removed]",
      "text/plain": [
       "<Figure size 640x480 with 1 Axes>"
      ]
     },
     "metadata": {},
     "output_type": "display_data"
    }
   ],
   "source": [
    "plt.scatter(df['Salinity level'], df['Pecan Yield'])"
   ]
  },
  {
   "cell_type": "code",
   "execution_count": 4,
   "id": "09911309",
   "metadata": {},
   "outputs": [],
   "source": [
    "# Remove the Row ID column\n",
    "data = df.drop(columns=['Row ID'])"
   ]
  },
  {
   "cell_type": "code",
   "execution_count": 5,
   "id": "6e4b1994",
   "metadata": {},
   "outputs": [],
   "source": [
    "# Define input (features) and output (target)\n",
    "X = data.drop(columns=['Pecan Yield']).values\n",
    "y = data['Pecan Yield'].values"
   ]
  },
  {
   "cell_type": "code",
   "execution_count": 6,
   "id": "2f591d99",
   "metadata": {},
   "outputs": [],
   "source": [
    "# pip install torch scikit-learn\n",
    "import torch\n",
    "import torch.nn as nn\n",
    "import torch.optim as optim\n",
    "from sklearn.model_selection import train_test_split\n",
    "from sklearn.preprocessing import StandardScaler\n",
    "from torch.utils.data import DataLoader, TensorDataset"
   ]
  },
  {
   "cell_type": "code",
   "execution_count": 7,
   "id": "c5a46a52",
   "metadata": {},
   "outputs": [],
   "source": [
    "# Split the data into training and test sets (80/20 split)\n",
    "X_train, X_test, y_train, y_test = \\\n",
    "train_test_split(X, y, test_size=0.2, random_state=42)\n",
    "#  Specifies the proportion of the dataset that \n",
    "# should be allocated to the test set. \n",
    "# Here, 0.2 means 20% of the data will be used\n",
    "# for testing, and the remaining 80% will be \n",
    "# used for training."
   ]
  },
  {
   "cell_type": "code",
   "execution_count": 8,
   "id": "49de71d3",
   "metadata": {},
   "outputs": [],
   "source": [
    "# Standardize the data\n",
    "scaler = StandardScaler()\n",
    "X_train = scaler.fit_transform(X_train)\n",
    "X_test = scaler.transform(X_test)\n",
    "\n",
    "# StandardScaler: This is a class from \n",
    "# Scikit-learn used to standardize \n",
    "# features by removing the mean and \n",
    "# scaling to unit variance.\n",
    "# Standardization: This process involves\n",
    "# rescaling the features so that they have \n",
    "# a mean of 0 and a standard deviation of 1.\n",
    "# This is important for many machine learning\n",
    "# algorithms that perform better when \n",
    "# features are on a similar scale.\n",
    "\n",
    "# This process is crucial for ensuring \n",
    "# that the model performs consistently,\n",
    "# as many machine learning algorithms \n",
    "# assume or perform better when the \n",
    "# input features are on a similar scale.\n"
   ]
  },
  {
   "cell_type": "code",
   "execution_count": 9,
   "id": "0743cfa2",
   "metadata": {},
   "outputs": [],
   "source": [
    "# Convert data to PyTorch tensors\n",
    "X_train_tensor = torch.tensor(\n",
    "    X_train, dtype=torch.float32)\n",
    "\n",
    "# torch.tensor(X_train): Converts \n",
    "# the X_train data (which is likely \n",
    "# a NumPy array or a Pandas \n",
    "# DataFrame) into a PyTorch tensor.\n",
    "# dtype=torch.float32: Specifies that \n",
    "# the data type of the tensor should \n",
    "# be float32, which is a common \n",
    "# choice for numerical data in \n",
    "# deep learning models.\n",
    "# Result: X_train_tensor is now a \n",
    "# PyTorch tensor containing the \n",
    "# standardized training input data, \n",
    "# ready for use in a neural network.\n",
    "\n",
    "y_train_tensor = torch.tensor(\n",
    "    y_train, dtype=torch.float32).view(-1, 1)\n",
    "\n",
    "# torch.tensor(y_train): Converts the \n",
    "# y_train data (the target variable \n",
    "# for training) into a PyTorch tensor.\n",
    "# .view(-1, 1): Reshapes the tensor \n",
    "# to have a shape of (-1, 1). \n",
    "# Here, -1 is a placeholder that tells \n",
    "# PyTorch to infer the correct size for \n",
    "# this dimension based on the other \n",
    "# dimensions. This ensures \n",
    "# that y_train_tensor has two dimensions, \n",
    "# with the second dimension being 1 \n",
    "# (i.e., a column vector).\n",
    "# Result: y_train_tensor is now a 2D \n",
    "# tensor with shape (n_samples, 1), \n",
    "# where n_samples is the number of \n",
    "# training samples.\n",
    "\n",
    "X_test_tensor = torch.tensor(\n",
    "    X_test, dtype=torch.float32)\n",
    "y_test_tensor = torch.tensor(\n",
    "    y_test, dtype=torch.float32).view(-1, 1)"
   ]
  },
  {
   "cell_type": "code",
   "execution_count": 10,
   "id": "6df318eb",
   "metadata": {},
   "outputs": [],
   "source": [
    "# Create DataLoader for batching\n",
    "train_dataset = TensorDataset(\n",
    "    X_train_tensor, y_train_tensor)\n",
    "train_loader = DataLoader(\n",
    "    train_dataset, batch_size=16, shuffle=True)"
   ]
  },
  {
   "cell_type": "code",
   "execution_count": 11,
   "id": "84fac1a5",
   "metadata": {},
   "outputs": [
    {
     "data": {
      "text/plain": [
       "3"
      ]
     },
     "execution_count": 11,
     "metadata": {},
     "output_type": "execute_result"
    }
   ],
   "source": [
    "X_train.shape[1]"
   ]
  },
  {
   "cell_type": "code",
   "execution_count": 12,
   "id": "24214ba2",
   "metadata": {},
   "outputs": [],
   "source": [
    "# Define the neural network model\n",
    "#  defines a new class NeuralNetwork \n",
    "# that inherits from nn.Module. \n",
    "# By inheriting from nn.Module, \n",
    "# the NeuralNetwork class gains access \n",
    "# to all the functionalities provided \n",
    "# by PyTorch for building and managing neural networks.\n",
    "class NeuralNetwork(nn.Module):\n",
    "    def __init__(self): # Constructor\n",
    "        # Start by calling the constructor of \n",
    "        # the parent class (nn.Module), ensuring \n",
    "        # that the class is properly initialized.\n",
    "        super(NeuralNetwork, self).__init__()\n",
    "        # nn.Linear creates a fully connected (linear) layer.\n",
    "        self.fc1 = nn.Linear(X_train.shape[1], 32)\n",
    "        self.fc2 = nn.Linear(32, 64)\n",
    "        self.fc3 = nn.Linear(64, 1)\n",
    "\n",
    "    # The forward method defines the forward pass of \n",
    "    # the network. It specifies how the input tensor\n",
    "    # x should flow through the layers of the network.\n",
    "    def forward(self, x):\n",
    "        #x = torch.relu(self.fc1(x)) \n",
    "        #x = torch.relu(self.fc2(x))\n",
    "        #x = self.fc3(x)\n",
    "        \n",
    "        x = self.fc1(x)  # No activation after the first layer\n",
    "        x = self.fc2(x)  # No activation after the second layer\n",
    "        x = self.fc3(x)  # Output layer        \n",
    "        \n",
    "        return x"
   ]
  },
  {
   "cell_type": "code",
   "execution_count": 13,
   "id": "a26d9226",
   "metadata": {},
   "outputs": [],
   "source": [
    "# Initialize the model, loss function, and optimizer\n",
    "model = NeuralNetwork()\n",
    "criterion = nn.L1Loss() # for mean absoluste loss\n",
    "# criterion = nn.MSELoss()\n",
    "optimizer = optim.Adam(\n",
    "    model.parameters(), lr=0.01)\n",
    "\n",
    "# optim.Adam: This creates an optimizer using the \n",
    "# Adam algorithm, which is a popular optimization\n",
    "# algorithm that combines the advantages of two \n",
    "# other algorithms: AdaGrad and RMSProp. It adjusts\n",
    "# the learning rate for each parameter individually\n",
    "# based on estimates of lower-order moments.\n",
    "# model.parameters(): This passes the model's\n",
    "# parameters (weights and biases) to the optimizer.\n",
    "# The optimizer will update these parameters during\n",
    "# training based on the computed gradients.\n",
    "# lr=0.01: This sets the learning rate, which \n",
    "# controls how much to adjust the model parameters\n",
    "# with respect to the gradient. A learning rate of\n",
    "# 0.01 is relatively standard, but it may need \n",
    "# tuning depending on the problem.\n"
   ]
  },
  {
   "cell_type": "markdown",
   "id": "2735c4f5-d7b3-42cb-891e-aa7f698ad04c",
   "metadata": {},
   "source": [
    "$$\n",
    "\\text{MAE} = \\frac{1}{n} \\sum_{i=1}^{n} |y_i - \\hat{y}_i|\n",
    "$$\\]"
   ]
  },
  {
   "cell_type": "markdown",
   "id": "ada0f67c-6678-4cdc-a700-0747c7b7f91e",
   "metadata": {},
   "source": [
    "\n",
    "$$\n",
    "\\text{MSE} = \\frac{1}{n} \\sum_{i=1}^{n} (y_i - \\hat{y}_i)^2\n",
    "$$"
   ]
  },
  {
   "cell_type": "code",
   "execution_count": 14,
   "id": "6b54385e",
   "metadata": {},
   "outputs": [
    {
     "name": "stdout",
     "output_type": "stream",
     "text": [
      "Epoch 1/200, Average Loss: 438.8109\n",
      "Epoch 2/200, Average Loss: 436.4712\n",
      "Epoch 3/200, Average Loss: 432.5754\n",
      "Epoch 4/200, Average Loss: 430.0527\n",
      "Epoch 5/200, Average Loss: 422.9325\n",
      "Epoch 6/200, Average Loss: 412.0533\n",
      "Epoch 7/200, Average Loss: 402.6561\n",
      "Epoch 8/200, Average Loss: 385.1822\n",
      "Epoch 9/200, Average Loss: 363.3822\n",
      "Epoch 10/200, Average Loss: 335.3332\n",
      "Epoch 11/200, Average Loss: 297.6929\n",
      "Epoch 12/200, Average Loss: 251.8781\n",
      "Epoch 13/200, Average Loss: 196.0149\n",
      "Epoch 14/200, Average Loss: 126.5973\n",
      "Epoch 15/200, Average Loss: 51.7624\n",
      "Epoch 16/200, Average Loss: 47.3913\n",
      "Epoch 17/200, Average Loss: 83.8905\n",
      "Epoch 18/200, Average Loss: 68.5392\n",
      "Epoch 19/200, Average Loss: 24.8489\n",
      "Epoch 20/200, Average Loss: 24.0249\n",
      "Epoch 21/200, Average Loss: 37.2312\n",
      "Epoch 22/200, Average Loss: 20.8305\n",
      "Epoch 23/200, Average Loss: 15.8365\n",
      "Epoch 24/200, Average Loss: 17.8872\n",
      "Epoch 25/200, Average Loss: 10.9573\n",
      "Epoch 26/200, Average Loss: 15.1426\n",
      "Epoch 27/200, Average Loss: 16.9389\n",
      "Epoch 28/200, Average Loss: 11.9505\n",
      "Epoch 29/200, Average Loss: 18.9451\n",
      "Epoch 30/200, Average Loss: 13.3334\n",
      "Epoch 31/200, Average Loss: 11.2614\n",
      "Epoch 32/200, Average Loss: 12.1081\n",
      "Epoch 33/200, Average Loss: 8.6294\n",
      "Epoch 34/200, Average Loss: 8.0660\n",
      "Epoch 35/200, Average Loss: 9.0711\n",
      "Epoch 36/200, Average Loss: 8.0544\n",
      "Epoch 37/200, Average Loss: 6.7591\n",
      "Epoch 38/200, Average Loss: 5.9119\n",
      "Epoch 39/200, Average Loss: 7.7931\n",
      "Epoch 40/200, Average Loss: 6.9517\n",
      "Epoch 41/200, Average Loss: 6.5559\n",
      "Epoch 42/200, Average Loss: 5.9891\n",
      "Epoch 43/200, Average Loss: 6.4782\n",
      "Epoch 44/200, Average Loss: 5.7320\n",
      "Epoch 45/200, Average Loss: 5.9237\n",
      "Epoch 46/200, Average Loss: 5.8118\n",
      "Epoch 47/200, Average Loss: 5.6857\n",
      "Epoch 48/200, Average Loss: 6.1304\n",
      "Epoch 49/200, Average Loss: 5.5722\n",
      "Epoch 50/200, Average Loss: 5.8637\n",
      "Epoch 51/200, Average Loss: 5.7876\n",
      "Epoch 52/200, Average Loss: 6.1401\n",
      "Epoch 53/200, Average Loss: 6.1752\n",
      "Epoch 54/200, Average Loss: 5.9087\n",
      "Epoch 55/200, Average Loss: 5.7863\n",
      "Epoch 56/200, Average Loss: 6.5916\n",
      "Epoch 57/200, Average Loss: 6.7854\n",
      "Epoch 58/200, Average Loss: 6.7533\n",
      "Epoch 59/200, Average Loss: 6.5290\n",
      "Epoch 60/200, Average Loss: 8.0851\n",
      "Epoch 61/200, Average Loss: 8.9817\n",
      "Epoch 62/200, Average Loss: 6.7201\n",
      "Epoch 63/200, Average Loss: 6.9540\n",
      "Epoch 64/200, Average Loss: 6.8673\n",
      "Epoch 65/200, Average Loss: 6.8231\n",
      "Epoch 66/200, Average Loss: 6.6494\n",
      "Epoch 67/200, Average Loss: 6.8687\n",
      "Epoch 68/200, Average Loss: 6.1796\n",
      "Epoch 69/200, Average Loss: 5.8292\n",
      "Epoch 70/200, Average Loss: 5.7820\n",
      "Epoch 71/200, Average Loss: 6.4471\n",
      "Epoch 72/200, Average Loss: 6.0389\n",
      "Epoch 73/200, Average Loss: 6.1339\n",
      "Epoch 74/200, Average Loss: 5.8340\n",
      "Epoch 75/200, Average Loss: 5.4631\n",
      "Epoch 76/200, Average Loss: 5.9323\n",
      "Epoch 77/200, Average Loss: 6.2362\n",
      "Epoch 78/200, Average Loss: 6.2956\n",
      "Epoch 79/200, Average Loss: 6.5291\n",
      "Epoch 80/200, Average Loss: 6.2058\n",
      "Epoch 81/200, Average Loss: 6.3326\n",
      "Epoch 82/200, Average Loss: 8.5748\n",
      "Epoch 83/200, Average Loss: 7.1009\n",
      "Epoch 84/200, Average Loss: 8.1719\n",
      "Epoch 85/200, Average Loss: 7.8606\n",
      "Epoch 86/200, Average Loss: 7.8648\n",
      "Epoch 87/200, Average Loss: 8.9086\n",
      "Epoch 88/200, Average Loss: 7.8968\n",
      "Epoch 89/200, Average Loss: 10.2182\n",
      "Epoch 90/200, Average Loss: 8.6046\n",
      "Epoch 91/200, Average Loss: 10.7381\n",
      "Epoch 92/200, Average Loss: 9.2195\n",
      "Epoch 93/200, Average Loss: 9.8186\n",
      "Epoch 94/200, Average Loss: 7.0221\n",
      "Epoch 95/200, Average Loss: 7.7599\n",
      "Epoch 96/200, Average Loss: 7.0900\n",
      "Epoch 97/200, Average Loss: 6.9597\n",
      "Epoch 98/200, Average Loss: 5.9602\n",
      "Epoch 99/200, Average Loss: 7.0206\n",
      "Epoch 100/200, Average Loss: 6.7833\n",
      "Epoch 101/200, Average Loss: 6.5533\n",
      "Epoch 102/200, Average Loss: 6.7843\n",
      "Epoch 103/200, Average Loss: 7.8896\n",
      "Epoch 104/200, Average Loss: 6.9000\n",
      "Epoch 105/200, Average Loss: 6.8270\n",
      "Epoch 106/200, Average Loss: 6.8833\n",
      "Epoch 107/200, Average Loss: 6.9383\n",
      "Epoch 108/200, Average Loss: 8.2355\n",
      "Epoch 109/200, Average Loss: 7.2105\n",
      "Epoch 110/200, Average Loss: 6.6474\n",
      "Epoch 111/200, Average Loss: 5.9139\n",
      "Epoch 112/200, Average Loss: 6.2876\n",
      "Epoch 113/200, Average Loss: 6.7790\n",
      "Epoch 114/200, Average Loss: 6.8621\n",
      "Epoch 115/200, Average Loss: 6.4593\n",
      "Epoch 116/200, Average Loss: 7.2173\n",
      "Epoch 117/200, Average Loss: 5.8102\n",
      "Epoch 118/200, Average Loss: 6.3065\n",
      "Epoch 119/200, Average Loss: 5.6628\n",
      "Epoch 120/200, Average Loss: 5.9296\n",
      "Epoch 121/200, Average Loss: 5.8106\n",
      "Epoch 122/200, Average Loss: 6.0830\n",
      "Epoch 123/200, Average Loss: 5.6010\n",
      "Epoch 124/200, Average Loss: 7.3141\n",
      "Epoch 125/200, Average Loss: 5.9980\n",
      "Epoch 126/200, Average Loss: 5.5817\n",
      "Epoch 127/200, Average Loss: 5.9444\n",
      "Epoch 128/200, Average Loss: 5.7696\n",
      "Epoch 129/200, Average Loss: 6.0568\n",
      "Epoch 130/200, Average Loss: 6.7042\n",
      "Epoch 131/200, Average Loss: 6.7155\n",
      "Epoch 132/200, Average Loss: 6.2449\n",
      "Epoch 133/200, Average Loss: 5.6797\n",
      "Epoch 134/200, Average Loss: 6.1684\n",
      "Epoch 135/200, Average Loss: 5.4143\n",
      "Epoch 136/200, Average Loss: 5.9451\n",
      "Epoch 137/200, Average Loss: 6.6527\n",
      "Epoch 138/200, Average Loss: 7.4130\n",
      "Epoch 139/200, Average Loss: 6.3716\n",
      "Epoch 140/200, Average Loss: 6.9714\n",
      "Epoch 141/200, Average Loss: 8.0027\n",
      "Epoch 142/200, Average Loss: 7.0624\n",
      "Epoch 143/200, Average Loss: 7.7231\n",
      "Epoch 144/200, Average Loss: 7.3114\n",
      "Epoch 145/200, Average Loss: 7.5457\n",
      "Epoch 146/200, Average Loss: 6.0742\n",
      "Epoch 147/200, Average Loss: 7.1022\n",
      "Epoch 148/200, Average Loss: 8.6558\n",
      "Epoch 149/200, Average Loss: 5.7651\n",
      "Epoch 150/200, Average Loss: 7.3815\n",
      "Epoch 151/200, Average Loss: 6.4333\n",
      "Epoch 152/200, Average Loss: 5.7191\n",
      "Epoch 153/200, Average Loss: 6.6910\n",
      "Epoch 154/200, Average Loss: 7.0989\n",
      "Epoch 155/200, Average Loss: 6.0786\n",
      "Epoch 156/200, Average Loss: 5.7550\n",
      "Epoch 157/200, Average Loss: 6.3844\n",
      "Epoch 158/200, Average Loss: 7.0241\n",
      "Epoch 159/200, Average Loss: 6.8119\n",
      "Epoch 160/200, Average Loss: 6.7592\n",
      "Epoch 161/200, Average Loss: 6.1645\n",
      "Epoch 162/200, Average Loss: 5.7976\n",
      "Epoch 163/200, Average Loss: 5.4651\n",
      "Epoch 164/200, Average Loss: 6.3339\n",
      "Epoch 165/200, Average Loss: 7.4696\n",
      "Epoch 166/200, Average Loss: 6.4156\n",
      "Epoch 167/200, Average Loss: 8.7625\n",
      "Epoch 168/200, Average Loss: 6.5203\n",
      "Epoch 169/200, Average Loss: 7.0895\n",
      "Epoch 170/200, Average Loss: 5.9390\n",
      "Epoch 171/200, Average Loss: 6.1723\n",
      "Epoch 172/200, Average Loss: 5.9782\n",
      "Epoch 173/200, Average Loss: 5.9035\n",
      "Epoch 174/200, Average Loss: 6.3483\n",
      "Epoch 175/200, Average Loss: 5.6415\n",
      "Epoch 176/200, Average Loss: 5.9031\n",
      "Epoch 177/200, Average Loss: 6.0337\n",
      "Epoch 178/200, Average Loss: 5.7973\n",
      "Epoch 179/200, Average Loss: 6.0769\n",
      "Epoch 180/200, Average Loss: 5.9047\n",
      "Epoch 181/200, Average Loss: 6.1174\n",
      "Epoch 182/200, Average Loss: 6.4154\n",
      "Epoch 183/200, Average Loss: 7.0855\n",
      "Epoch 184/200, Average Loss: 5.8786\n",
      "Epoch 185/200, Average Loss: 5.8131\n",
      "Epoch 186/200, Average Loss: 6.0681\n",
      "Epoch 187/200, Average Loss: 6.5762\n",
      "Epoch 188/200, Average Loss: 5.5539\n",
      "Epoch 189/200, Average Loss: 5.8394\n",
      "Epoch 190/200, Average Loss: 6.7001\n",
      "Epoch 191/200, Average Loss: 8.1827\n",
      "Epoch 192/200, Average Loss: 5.4885\n",
      "Epoch 193/200, Average Loss: 8.9397\n",
      "Epoch 194/200, Average Loss: 8.7347\n",
      "Epoch 195/200, Average Loss: 6.7186\n",
      "Epoch 196/200, Average Loss: 7.5119\n",
      "Epoch 197/200, Average Loss: 6.9747\n",
      "Epoch 198/200, Average Loss: 6.6012\n",
      "Epoch 199/200, Average Loss: 6.4704\n",
      "Epoch 200/200, Average Loss: 7.6627\n"
     ]
    }
   ],
   "source": [
    "# Training loop\n",
    "epochs = 200\n",
    "for epoch in range(epochs):\n",
    "    # Set the model to training mode. This is \n",
    "    # important because certain layers, such \n",
    "    # as dropout or batch normalization, behave\n",
    "    # differently during training than during \n",
    "    # evaluation. model.train() ensures that \n",
    "    # these layers are in training mode.\n",
    "    model.train()\n",
    "    total_loss = 0  # Initialize total loss for the epoch\n",
    "\n",
    "    for batch_X, batch_y in train_loader:\n",
    "        # Resets the gradients of all model parameters\n",
    "        # to zero before starting the backpropagation\n",
    "        # process for the current batch. This is \n",
    "        # important because gradients are accumulated\n",
    "        # by default in PyTorch, so they need to be\n",
    "        # cleared out before calculating the gradients\n",
    "        # for the current batch.\n",
    "        optimizer.zero_grad()\n",
    "        predictions = model(batch_X)\n",
    "        # Compute the loss between the model's \n",
    "        # predictions and the actual target values \n",
    "        # (batch_y).\n",
    "        loss = criterion(predictions, batch_y)\n",
    "        # Compute the gradients of the loss with \n",
    "        # respect to each model parameter using \n",
    "        # backpropagation. These gradients are \n",
    "        # used to update the model parameters \n",
    "        # in the next step.\n",
    "        loss.backward()\n",
    "        \n",
    "        optimizer.step()\n",
    "\n",
    "        total_loss += loss.item()  # Accumulate the loss for each batch\n",
    "\n",
    "    average_loss = total_loss / len(train_loader)  # Compute the average loss for the epoch    \n",
    "    print(f'Epoch {epoch+1}/{epochs}, Average Loss: {average_loss:.4f}')\n"
   ]
  },
  {
   "cell_type": "code",
   "execution_count": 15,
   "id": "b23c8163",
   "metadata": {},
   "outputs": [
    {
     "name": "stdout",
     "output_type": "stream",
     "text": [
      "Test Loss: 7.3963\n"
     ]
    }
   ],
   "source": [
    "# Evaluate the model on the test set\n",
    "# Switch to Evaluation Mode. In this mode, \n",
    "# certain layers like dropout and batch normalization, \n",
    "# which behave differently during training, will \n",
    "# operate in evaluation mode, meaning they won't \n",
    "# apply dropout or update running statistics.\n",
    "# Why Use eval()?: This ensures that the \n",
    "# model's behavior is consistent during \n",
    "# testing and that the evaluation reflects\n",
    "# the true performance on unseen data.\n",
    "\n",
    "model.eval()\n",
    "\n",
    "# Disabling Gradient Calculation.\n",
    "# The torch.no_grad() context manager \n",
    "# temporarily disables gradient computation. \n",
    "# Since gradients are only necessary during \n",
    "# training (when you need to update the \n",
    "# model's parameters), disabling them \n",
    "# during evaluation saves memory and \n",
    "# computational resources because\n",
    "# pytorch will not track the operations\n",
    "# for that it might need later for gradient\n",
    "# computation.\n",
    "with torch.no_grad():\n",
    "    test_predictions = model(X_test_tensor)\n",
    "    test_loss = criterion(\n",
    "        test_predictions, y_test_tensor)\n",
    "    print(f'Test Loss: {test_loss.item():.4f}')"
   ]
  },
  {
   "cell_type": "code",
   "execution_count": 16,
   "id": "5af858ea",
   "metadata": {},
   "outputs": [
    {
     "data": {
      "text/plain": [
       "[tensor([[433.4372],\n",
       "         [500.3364],\n",
       "         [330.0754],\n",
       "         [492.0927],\n",
       "         [483.1656],\n",
       "         [475.5349],\n",
       "         [428.6643],\n",
       "         [521.8048],\n",
       "         [327.0096],\n",
       "         [371.8168],\n",
       "         [355.8466],\n",
       "         [410.6195]]),\n",
       " tensor([[430.4150],\n",
       "         [500.0000],\n",
       "         [316.7512],\n",
       "         [490.2917],\n",
       "         [487.6102],\n",
       "         [477.7354],\n",
       "         [420.0000],\n",
       "         [535.8058],\n",
       "         [314.3954],\n",
       "         [365.5778],\n",
       "         [350.0000],\n",
       "         [426.8807]])]"
      ]
     },
     "execution_count": 16,
     "metadata": {},
     "output_type": "execute_result"
    }
   ],
   "source": [
    "[test_predictions, y_test_tensor]"
   ]
  },
  {
   "cell_type": "code",
   "execution_count": 17,
   "id": "d1faa338",
   "metadata": {},
   "outputs": [],
   "source": [
    "# Print weights and biases for each layer in the model\n",
    "def print_weights_and_biases(model):\n",
    "    for name, param in model.named_parameters():\n",
    "        if param.requires_grad:\n",
    "            print(f\"Layer: {name}\")\n",
    "            print(f\"Values:\\n{param.data}\\n\")"
   ]
  },
  {
   "cell_type": "code",
   "execution_count": 18,
   "id": "64e196a2",
   "metadata": {},
   "outputs": [
    {
     "name": "stdout",
     "output_type": "stream",
     "text": [
      "Layer: fc1.weight\n",
      "Values:\n",
      "tensor([[-0.2005,  0.5418,  0.0232],\n",
      "        [ 0.1139,  0.1023,  0.3740],\n",
      "        [-0.5391, -0.0471, -0.0766],\n",
      "        [ 0.4257,  0.0399, -0.0266],\n",
      "        [-0.1979,  0.3697, -0.0980],\n",
      "        [-0.2770, -0.2382,  0.4937],\n",
      "        [ 0.3037,  0.5256,  0.3834],\n",
      "        [-0.1582,  0.3884, -0.3929],\n",
      "        [-0.1862, -0.2714, -0.3555],\n",
      "        [-0.1541,  0.0327,  0.4901],\n",
      "        [-0.4332,  0.0786, -0.0794],\n",
      "        [ 0.1905,  0.2579, -0.2056],\n",
      "        [-0.2257, -0.5405, -0.1266],\n",
      "        [-0.3973, -0.0639, -0.3027],\n",
      "        [ 0.2357,  0.5266, -0.2322],\n",
      "        [-0.6047, -0.4560, -0.0292],\n",
      "        [ 0.4225, -0.1357,  0.0501],\n",
      "        [-0.4060, -0.3712,  0.3301],\n",
      "        [ 0.4473, -0.3259, -0.1911],\n",
      "        [ 0.4498, -0.2634,  0.2146],\n",
      "        [-0.5136,  0.4102, -0.0367],\n",
      "        [ 0.2394,  0.3013, -0.2215],\n",
      "        [ 0.3505, -0.4492, -0.1237],\n",
      "        [ 0.4592,  0.0072,  0.3793],\n",
      "        [-0.3043, -0.3420,  0.2944],\n",
      "        [-0.6196,  0.4644,  0.2684],\n",
      "        [-0.1931, -0.1374, -0.4793],\n",
      "        [-0.2483,  0.4620,  0.2824],\n",
      "        [ 0.4018,  0.1182,  0.1163],\n",
      "        [ 0.1101, -0.1065, -0.4459],\n",
      "        [-0.5678, -0.0873, -0.3530],\n",
      "        [-0.2158, -0.4516,  0.5318]])\n",
      "\n",
      "Layer: fc1.bias\n",
      "Values:\n",
      "tensor([-1.0479, -0.9048, -0.5861, -0.9089,  0.8578,  0.8432, -0.6414,  0.9159,\n",
      "        -1.0230,  0.9863,  0.9882,  1.0470, -0.8179,  0.4669,  0.6184, -0.6269,\n",
      "         0.9821,  0.7945,  0.8569,  0.8749, -0.7488, -0.8144,  0.5056, -0.7393,\n",
      "         0.6565, -0.8848,  0.4818,  0.9145,  0.7801, -0.7362, -0.4858,  0.8262])\n",
      "\n",
      "Layer: fc2.weight\n",
      "Values:\n",
      "tensor([[-0.5517, -0.5579, -0.4405,  ..., -0.5857, -0.4401,  0.3418],\n",
      "        [ 0.5917,  0.4097,  0.3183,  ...,  0.4300,  0.2279, -0.4480],\n",
      "        [-0.6526, -0.4899, -0.6261,  ..., -0.3698, -0.3696,  0.4342],\n",
      "        ...,\n",
      "        [-0.6404, -0.3756, -0.5173,  ..., -0.5884, -0.2424,  0.5310],\n",
      "        [-0.5470, -0.6843, -0.4552,  ..., -0.6114, -0.3290,  0.4744],\n",
      "        [ 0.5400,  0.3906,  0.3131,  ...,  0.3431,  0.3969, -0.3281]])\n",
      "\n",
      "Layer: fc2.bias\n",
      "Values:\n",
      "tensor([ 0.6921, -0.6182,  0.7234,  0.4878, -0.6651,  0.5649, -0.6478,  0.5398,\n",
      "         0.4836, -0.3415,  0.7319, -0.6812,  0.6449,  0.5451,  0.4333, -0.3279,\n",
      "        -0.5644, -0.7330, -0.5408, -0.5716,  0.6894,  0.7483,  0.6449, -0.6201,\n",
      "        -0.4502,  0.7045, -0.6697, -0.6537, -0.7070,  0.5533, -0.6669,  0.5870,\n",
      "        -0.4830, -0.6460,  0.7091, -0.6382,  0.6935, -0.4548, -0.4724, -0.4733,\n",
      "         0.7472, -0.5971,  0.7073, -0.7133,  0.4037,  0.4497, -0.5992,  0.5444,\n",
      "        -0.6011, -0.6870,  0.6269, -0.6511, -0.7013,  0.5650,  0.4233, -0.7273,\n",
      "         0.4497, -0.6133,  0.5687, -0.6417,  0.6623,  0.6303,  0.4425, -0.4496])\n",
      "\n",
      "Layer: fc3.weight\n",
      "Values:\n",
      "tensor([[ 0.6113, -0.5833,  0.5074,  0.5740, -0.6100,  0.5234, -0.5943,  0.5798,\n",
      "          0.4823, -0.3679,  0.5457, -0.5301,  0.5055,  0.4101,  0.4851, -0.3972,\n",
      "         -0.4197, -0.6357, -0.5667, -0.5221,  0.5522,  0.5253,  0.5490, -0.4641,\n",
      "         -0.4894,  0.5230, -0.6398, -0.5520, -0.5067,  0.5439, -0.5370,  0.5308,\n",
      "         -0.5797, -0.5397,  0.5236, -0.5067,  0.5766, -0.5624, -0.3382, -0.4458,\n",
      "          0.6178, -0.5473,  0.5208, -0.5726,  0.4912,  0.5064, -0.6080,  0.4937,\n",
      "         -0.5089, -0.4904,  0.5551, -0.5483, -0.5272,  0.5530,  0.5446, -0.5426,\n",
      "          0.5980, -0.4850,  0.4988, -0.5742,  0.6333,  0.6113,  0.5074, -0.4666]])\n",
      "\n",
      "Layer: fc3.bias\n",
      "Values:\n",
      "tensor([0.5628])\n",
      "\n"
     ]
    }
   ],
   "source": [
    "# Call the function to print weights and biases\n",
    "print_weights_and_biases(model)"
   ]
  },
  {
   "cell_type": "code",
   "execution_count": 36,
   "id": "b0e39717",
   "metadata": {},
   "outputs": [],
   "source": [
    "myData = [[90, 12, 52],\n",
    "          [83, 15, 50],\n",
    "          [100, 2, 90]]\n",
    "\n",
    "myData_transformed = scaler.transform(myData)\n",
    "\n",
    "myData_tensor= torch.tensor(\n",
    "    myData_transformed, dtype=torch.float32)\n"
   ]
  },
  {
   "cell_type": "code",
   "execution_count": 37,
   "id": "65401cba-08cf-42d4-8f1f-235517e9ff1c",
   "metadata": {},
   "outputs": [],
   "source": [
    "model.eval()\n",
    "with torch.no_grad():\n",
    "    predictions = model(myData_tensor)\n"
   ]
  },
  {
   "cell_type": "code",
   "execution_count": 38,
   "id": "9c2f5801-777d-49cf-8acb-bbfb47169319",
   "metadata": {},
   "outputs": [
    {
     "data": {
      "text/plain": [
       "tensor([[486.3408],\n",
       "        [464.7892],\n",
       "        [610.1937]])"
      ]
     },
     "execution_count": 38,
     "metadata": {},
     "output_type": "execute_result"
    }
   ],
   "source": [
    "predictions"
   ]
  },
  {
   "cell_type": "code",
   "execution_count": 39,
   "id": "698087e7-dd54-4fc2-bdab-e56d03e7eb79",
   "metadata": {},
   "outputs": [
    {
     "data": {
      "text/plain": [
       "[[90, 12, 52], [83, 15, 50], [100, 2, 90]]"
      ]
     },
     "execution_count": 39,
     "metadata": {},
     "output_type": "execute_result"
    }
   ],
   "source": [
    "myData"
   ]
  },
  {
   "cell_type": "code",
   "execution_count": 40,
   "id": "f17016ba-d822-469d-9a3d-7e7fa4afaae0",
   "metadata": {},
   "outputs": [
    {
     "data": {
      "text/plain": [
       "array([[ 0.53314162, -1.42914842,  0.42526729],\n",
       "       [ 0.18871365, -0.98567586,  0.22595528],\n",
       "       [ 1.02518157, -2.90739028,  4.21219547]])"
      ]
     },
     "execution_count": 40,
     "metadata": {},
     "output_type": "execute_result"
    }
   ],
   "source": [
    "myData_transformed"
   ]
  },
  {
   "cell_type": "code",
   "execution_count": null,
   "id": "8e79616d-7ec1-4fd3-ab96-f673a3cbc9bd",
   "metadata": {},
   "outputs": [],
   "source": []
  }
 ],
 "metadata": {
  "kernelspec": {
   "display_name": "Python 3 (ipykernel)",
   "language": "python",
   "name": "python3"
  },
  "language_info": {
   "codemirror_mode": {
    "name": "ipython",
    "version": 3
   },
   "file_extension": ".py",
   "mimetype": "text/x-python",
   "name": "python",
   "nbconvert_exporter": "python",
   "pygments_lexer": "ipython3",
   "version": "3.11.4"
  }
 },
 "nbformat": 4,
 "nbformat_minor": 5
}
