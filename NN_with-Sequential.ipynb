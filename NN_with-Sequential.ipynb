{
 "cells": [
  {
   "cell_type": "code",
   "execution_count": 1,
   "id": "9345fda6",
   "metadata": {},
   "outputs": [],
   "source": [
    "import numpy as np\n",
    "import pandas as pd\n",
    "import matplotlib.pyplot as plt"
   ]
  },
  {
   "cell_type": "code",
   "execution_count": 2,
   "id": "74716e90",
   "metadata": {},
   "outputs": [],
   "source": [
    "df=pd.read_csv(\"Pecan.txt\", delimiter=\"\\t\")"
   ]
  },
  {
   "cell_type": "code",
   "execution_count": 3,
   "id": "846481e4",
   "metadata": {},
   "outputs": [
    {
     "data": {
      "text/plain": [
       "<matplotlib.collections.PathCollection at 0x20a8d5b3e50>"
      ]
     },
     "execution_count": 3,
     "metadata": {},
     "output_type": "execute_result"
    },
    {
     "data": {
      "image/png": "[encoded data removed]",
      "text/plain": [
       "<Figure size 640x480 with 1 Axes>"
      ]
     },
     "metadata": {},
     "output_type": "display_data"
    }
   ],
   "source": [
    "plt.scatter(df['Salinity level'], df['Pecan Yield'])"
   ]
  },
  {
   "cell_type": "code",
   "execution_count": 4,
   "id": "09911309",
   "metadata": {},
   "outputs": [],
   "source": [
    "# Remove the Row ID column\n",
    "data = df.drop(columns=['Row ID'])"
   ]
  },
  {
   "cell_type": "code",
   "execution_count": 5,
   "id": "6e4b1994",
   "metadata": {},
   "outputs": [],
   "source": [
    "# Define input (features) and output (target)\n",
    "X = data.drop(columns=['Pecan Yield']).values\n",
    "y = data['Pecan Yield'].values"
   ]
  },
  {
   "cell_type": "code",
   "execution_count": 6,
   "id": "2f591d99",
   "metadata": {},
   "outputs": [],
   "source": [
    "# pip install torch scikit-learn\n",
    "import torch\n",
    "import torch.nn as nn\n",
    "import torch.nn.functional as F\n",
    "import torch.optim as optim\n",
    "from sklearn.model_selection import train_test_split\n",
    "from sklearn.preprocessing import StandardScaler\n",
    "from torch.utils.data import DataLoader, TensorDataset"
   ]
  },
  {
   "cell_type": "code",
   "execution_count": 7,
   "id": "c5a46a52",
   "metadata": {},
   "outputs": [],
   "source": [
    "# Split the data into training and test sets (80/20 split)\n",
    "X_train, X_test, y_train, y_test = \\\n",
    "train_test_split(X, y, test_size=0.2, random_state=42)\n"
   ]
  },
  {
   "cell_type": "code",
   "execution_count": 8,
   "id": "49de71d3",
   "metadata": {},
   "outputs": [],
   "source": [
    "# Standardize the data\n",
    "scaler = StandardScaler()\n",
    "X_train = scaler.fit_transform(X_train)\n",
    "X_test = scaler.transform(X_test)\n",
    "\n",
    "\n"
   ]
  },
  {
   "cell_type": "code",
   "execution_count": 9,
   "id": "0743cfa2",
   "metadata": {},
   "outputs": [],
   "source": [
    "# Convert data to PyTorch tensors\n",
    "X_train_tensor = torch.tensor(\n",
    "    X_train, dtype=torch.float32)\n",
    "\n",
    "y_train_tensor = torch.tensor(\n",
    "    y_train, dtype=torch.float32).view(-1, 1)\n",
    "\n",
    "X_test_tensor = torch.tensor(\n",
    "    X_test, dtype=torch.float32)\n",
    "y_test_tensor = torch.tensor(\n",
    "    y_test, dtype=torch.float32).view(-1, 1)"
   ]
  },
  {
   "cell_type": "code",
   "execution_count": 10,
   "id": "6df318eb",
   "metadata": {},
   "outputs": [],
   "source": [
    "# Create DataLoader for batching\n",
    "train_dataset = TensorDataset(\n",
    "    X_train_tensor, y_train_tensor)\n",
    "train_loader = DataLoader(\n",
    "    train_dataset, batch_size=16, shuffle=True)"
   ]
  },
  {
   "cell_type": "code",
   "execution_count": 11,
   "id": "84fac1a5",
   "metadata": {},
   "outputs": [
    {
     "data": {
      "text/plain": [
       "3"
      ]
     },
     "execution_count": 11,
     "metadata": {},
     "output_type": "execute_result"
    }
   ],
   "source": [
    "X_train.shape[1]"
   ]
  },
  {
   "cell_type": "code",
   "execution_count": 12,
   "id": "24214ba2",
   "metadata": {},
   "outputs": [],
   "source": [
    "# Define the neural network model\n",
    "\n",
    "class NeuralNetwork(nn.Module):\n",
    "    def __init__(self): # Constructor\n",
    "        super(NeuralNetwork, self).__init__()\n",
    "        self.fc1 = nn.Linear(X_train.shape[1], 32)\n",
    "        self.fc2 = nn.Linear(32, 64)\n",
    "        self.fc3 = nn.Linear(64, 1)\n",
    "\n",
    "    def forward(self, x):        \n",
    "        x = self.fc1(x)\n",
    "        x=torch.relu(x)\n",
    "        x = self.fc2(x)\n",
    "        x=torch.relu(x)\n",
    "        x = self.fc3(x)  # Output layer    \n",
    "        return x"
   ]
  },
  {
   "cell_type": "code",
   "execution_count": 13,
   "id": "ef5014be-2bd9-4d41-953b-148a0f1ff609",
   "metadata": {},
   "outputs": [],
   "source": [
    "class NeuralNetwork2(nn.Module):\n",
    "    def __init__(self): # Constructor\n",
    "        super(NeuralNetwork2, self).__init__()\n",
    "        self.architecture=nn.Sequential(\n",
    "            nn.Linear(X_train.shape[1], 32),\n",
    "            nn.ReLU(),\n",
    "            nn.Linear(32, 64),\n",
    "            nn.ReLU(),\n",
    "            nn.Linear(64, 1)\n",
    "        )\n",
    "    def forward(self, x):\n",
    "        x=self.architecture(x)\n",
    "        return x\n"
   ]
  },
  {
   "cell_type": "code",
   "execution_count": 14,
   "id": "a26d9226",
   "metadata": {},
   "outputs": [],
   "source": [
    "# Initialize the model, loss function, and optimizer\n",
    "model = NeuralNetwork2()\n",
    "criterion = nn.L1Loss() # for mean absoluste loss\n",
    "# criterion = nn.MSELoss()\n",
    "optimizer = optim.Adam(\n",
    "    model.parameters(), lr=0.01)\n",
    "\n"
   ]
  },
  {
   "cell_type": "code",
   "execution_count": 15,
   "id": "6b54385e",
   "metadata": {},
   "outputs": [
    {
     "name": "stdout",
     "output_type": "stream",
     "text": [
      "Epoch 1/200, Average Loss: 436.6347\n",
      "Epoch 2/200, Average Loss: 437.5601\n",
      "Epoch 3/200, Average Loss: 435.2796\n",
      "Epoch 4/200, Average Loss: 433.5073\n",
      "Epoch 5/200, Average Loss: 427.5997\n",
      "Epoch 6/200, Average Loss: 423.4014\n",
      "Epoch 7/200, Average Loss: 412.4269\n",
      "Epoch 8/200, Average Loss: 404.9354\n",
      "Epoch 9/200, Average Loss: 391.9583\n",
      "Epoch 10/200, Average Loss: 370.4284\n",
      "Epoch 11/200, Average Loss: 348.4783\n",
      "Epoch 12/200, Average Loss: 316.5712\n",
      "Epoch 13/200, Average Loss: 273.8163\n",
      "Epoch 14/200, Average Loss: 225.5536\n",
      "Epoch 15/200, Average Loss: 177.7833\n",
      "Epoch 16/200, Average Loss: 126.4505\n",
      "Epoch 17/200, Average Loss: 111.2069\n",
      "Epoch 18/200, Average Loss: 129.0716\n",
      "Epoch 19/200, Average Loss: 128.7673\n",
      "Epoch 20/200, Average Loss: 122.5974\n",
      "Epoch 21/200, Average Loss: 108.7502\n",
      "Epoch 22/200, Average Loss: 91.1110\n",
      "Epoch 23/200, Average Loss: 90.7699\n",
      "Epoch 24/200, Average Loss: 84.1976\n",
      "Epoch 25/200, Average Loss: 80.0078\n",
      "Epoch 26/200, Average Loss: 71.7059\n",
      "Epoch 27/200, Average Loss: 68.9471\n",
      "Epoch 28/200, Average Loss: 63.4412\n",
      "Epoch 29/200, Average Loss: 59.8926\n",
      "Epoch 30/200, Average Loss: 53.1254\n",
      "Epoch 31/200, Average Loss: 49.3700\n",
      "Epoch 32/200, Average Loss: 46.5238\n",
      "Epoch 33/200, Average Loss: 42.1351\n",
      "Epoch 34/200, Average Loss: 37.8147\n",
      "Epoch 35/200, Average Loss: 35.7236\n",
      "Epoch 36/200, Average Loss: 31.6201\n",
      "Epoch 37/200, Average Loss: 28.6915\n",
      "Epoch 38/200, Average Loss: 27.3648\n",
      "Epoch 39/200, Average Loss: 23.8448\n",
      "Epoch 40/200, Average Loss: 23.0456\n",
      "Epoch 41/200, Average Loss: 20.7463\n",
      "Epoch 42/200, Average Loss: 17.6739\n",
      "Epoch 43/200, Average Loss: 15.8606\n",
      "Epoch 44/200, Average Loss: 14.7172\n",
      "Epoch 45/200, Average Loss: 13.3531\n",
      "Epoch 46/200, Average Loss: 13.4762\n",
      "Epoch 47/200, Average Loss: 13.7888\n",
      "Epoch 48/200, Average Loss: 11.5744\n",
      "Epoch 49/200, Average Loss: 10.3920\n",
      "Epoch 50/200, Average Loss: 9.5400\n",
      "Epoch 51/200, Average Loss: 9.8896\n",
      "Epoch 52/200, Average Loss: 8.8096\n",
      "Epoch 53/200, Average Loss: 8.5514\n",
      "Epoch 54/200, Average Loss: 8.4345\n",
      "Epoch 55/200, Average Loss: 8.2087\n",
      "Epoch 56/200, Average Loss: 7.9258\n",
      "Epoch 57/200, Average Loss: 8.5485\n",
      "Epoch 58/200, Average Loss: 7.6101\n",
      "Epoch 59/200, Average Loss: 7.3267\n",
      "Epoch 60/200, Average Loss: 9.9106\n",
      "Epoch 61/200, Average Loss: 8.3709\n",
      "Epoch 62/200, Average Loss: 9.3187\n",
      "Epoch 63/200, Average Loss: 9.5090\n",
      "Epoch 64/200, Average Loss: 7.3817\n",
      "Epoch 65/200, Average Loss: 6.8125\n",
      "Epoch 66/200, Average Loss: 6.6190\n",
      "Epoch 67/200, Average Loss: 6.4542\n",
      "Epoch 68/200, Average Loss: 6.5776\n",
      "Epoch 69/200, Average Loss: 6.4753\n",
      "Epoch 70/200, Average Loss: 6.1673\n",
      "Epoch 71/200, Average Loss: 5.8981\n",
      "Epoch 72/200, Average Loss: 6.7268\n",
      "Epoch 73/200, Average Loss: 7.0451\n",
      "Epoch 74/200, Average Loss: 6.2134\n",
      "Epoch 75/200, Average Loss: 8.7248\n",
      "Epoch 76/200, Average Loss: 6.8047\n",
      "Epoch 77/200, Average Loss: 8.6388\n",
      "Epoch 78/200, Average Loss: 8.6675\n",
      "Epoch 79/200, Average Loss: 9.7076\n",
      "Epoch 80/200, Average Loss: 8.9151\n",
      "Epoch 81/200, Average Loss: 10.3881\n",
      "Epoch 82/200, Average Loss: 8.3679\n",
      "Epoch 83/200, Average Loss: 8.7897\n",
      "Epoch 84/200, Average Loss: 6.2688\n",
      "Epoch 85/200, Average Loss: 7.3931\n",
      "Epoch 86/200, Average Loss: 7.2448\n",
      "Epoch 87/200, Average Loss: 6.8358\n",
      "Epoch 88/200, Average Loss: 7.3998\n",
      "Epoch 89/200, Average Loss: 6.6842\n",
      "Epoch 90/200, Average Loss: 8.2643\n",
      "Epoch 91/200, Average Loss: 6.2117\n",
      "Epoch 92/200, Average Loss: 7.9914\n",
      "Epoch 93/200, Average Loss: 6.7087\n",
      "Epoch 94/200, Average Loss: 8.0040\n",
      "Epoch 95/200, Average Loss: 6.7007\n",
      "Epoch 96/200, Average Loss: 8.1201\n",
      "Epoch 97/200, Average Loss: 6.0614\n",
      "Epoch 98/200, Average Loss: 6.6331\n",
      "Epoch 99/200, Average Loss: 5.6331\n",
      "Epoch 100/200, Average Loss: 5.9855\n",
      "Epoch 101/200, Average Loss: 5.9239\n",
      "Epoch 102/200, Average Loss: 7.1224\n",
      "Epoch 103/200, Average Loss: 6.0549\n",
      "Epoch 104/200, Average Loss: 5.5194\n",
      "Epoch 105/200, Average Loss: 5.8626\n",
      "Epoch 106/200, Average Loss: 6.2275\n",
      "Epoch 107/200, Average Loss: 5.7879\n",
      "Epoch 108/200, Average Loss: 5.9745\n",
      "Epoch 109/200, Average Loss: 5.8106\n",
      "Epoch 110/200, Average Loss: 5.8305\n",
      "Epoch 111/200, Average Loss: 7.0990\n",
      "Epoch 112/200, Average Loss: 6.0317\n",
      "Epoch 113/200, Average Loss: 6.9684\n",
      "Epoch 114/200, Average Loss: 6.1865\n",
      "Epoch 115/200, Average Loss: 6.5265\n",
      "Epoch 116/200, Average Loss: 6.0538\n",
      "Epoch 117/200, Average Loss: 6.0102\n",
      "Epoch 118/200, Average Loss: 7.3187\n",
      "Epoch 119/200, Average Loss: 6.4055\n",
      "Epoch 120/200, Average Loss: 7.7099\n",
      "Epoch 121/200, Average Loss: 5.8586\n",
      "Epoch 122/200, Average Loss: 6.7293\n",
      "Epoch 123/200, Average Loss: 6.1969\n",
      "Epoch 124/200, Average Loss: 6.1411\n",
      "Epoch 125/200, Average Loss: 6.3218\n",
      "Epoch 126/200, Average Loss: 6.1842\n",
      "Epoch 127/200, Average Loss: 6.8100\n",
      "Epoch 128/200, Average Loss: 6.1513\n",
      "Epoch 129/200, Average Loss: 7.0836\n",
      "Epoch 130/200, Average Loss: 6.9934\n",
      "Epoch 131/200, Average Loss: 8.3716\n",
      "Epoch 132/200, Average Loss: 6.3901\n",
      "Epoch 133/200, Average Loss: 6.4477\n",
      "Epoch 134/200, Average Loss: 5.9568\n",
      "Epoch 135/200, Average Loss: 6.1072\n",
      "Epoch 136/200, Average Loss: 5.7802\n",
      "Epoch 137/200, Average Loss: 6.4710\n",
      "Epoch 138/200, Average Loss: 6.4243\n",
      "Epoch 139/200, Average Loss: 5.8209\n",
      "Epoch 140/200, Average Loss: 5.4750\n",
      "Epoch 141/200, Average Loss: 5.6360\n",
      "Epoch 142/200, Average Loss: 5.4438\n",
      "Epoch 143/200, Average Loss: 5.5432\n",
      "Epoch 144/200, Average Loss: 5.6833\n",
      "Epoch 145/200, Average Loss: 5.7507\n",
      "Epoch 146/200, Average Loss: 5.3656\n",
      "Epoch 147/200, Average Loss: 6.3901\n",
      "Epoch 148/200, Average Loss: 6.4474\n",
      "Epoch 149/200, Average Loss: 6.2049\n",
      "Epoch 150/200, Average Loss: 6.3327\n",
      "Epoch 151/200, Average Loss: 5.3944\n",
      "Epoch 152/200, Average Loss: 7.4339\n",
      "Epoch 153/200, Average Loss: 5.1715\n",
      "Epoch 154/200, Average Loss: 7.4961\n",
      "Epoch 155/200, Average Loss: 5.7289\n",
      "Epoch 156/200, Average Loss: 7.5693\n",
      "Epoch 157/200, Average Loss: 4.8384\n",
      "Epoch 158/200, Average Loss: 7.0866\n",
      "Epoch 159/200, Average Loss: 6.7385\n",
      "Epoch 160/200, Average Loss: 6.2625\n",
      "Epoch 161/200, Average Loss: 6.1846\n",
      "Epoch 162/200, Average Loss: 5.4097\n",
      "Epoch 163/200, Average Loss: 5.7756\n",
      "Epoch 164/200, Average Loss: 5.6574\n",
      "Epoch 165/200, Average Loss: 5.5926\n",
      "Epoch 166/200, Average Loss: 5.1683\n",
      "Epoch 167/200, Average Loss: 5.4637\n",
      "Epoch 168/200, Average Loss: 5.2686\n",
      "Epoch 169/200, Average Loss: 5.7325\n",
      "Epoch 170/200, Average Loss: 5.7504\n",
      "Epoch 171/200, Average Loss: 5.8888\n",
      "Epoch 172/200, Average Loss: 5.4571\n",
      "Epoch 173/200, Average Loss: 5.4621\n",
      "Epoch 174/200, Average Loss: 5.6667\n",
      "Epoch 175/200, Average Loss: 5.4999\n",
      "Epoch 176/200, Average Loss: 6.6183\n",
      "Epoch 177/200, Average Loss: 6.1668\n",
      "Epoch 178/200, Average Loss: 6.2242\n",
      "Epoch 179/200, Average Loss: 5.6628\n",
      "Epoch 180/200, Average Loss: 5.5059\n",
      "Epoch 181/200, Average Loss: 5.0891\n",
      "Epoch 182/200, Average Loss: 6.0160\n",
      "Epoch 183/200, Average Loss: 5.3383\n",
      "Epoch 184/200, Average Loss: 5.0548\n",
      "Epoch 185/200, Average Loss: 5.2635\n",
      "Epoch 186/200, Average Loss: 5.1613\n",
      "Epoch 187/200, Average Loss: 5.6213\n",
      "Epoch 188/200, Average Loss: 5.0902\n",
      "Epoch 189/200, Average Loss: 5.5490\n",
      "Epoch 190/200, Average Loss: 5.6488\n",
      "Epoch 191/200, Average Loss: 5.7044\n",
      "Epoch 192/200, Average Loss: 5.0982\n",
      "Epoch 193/200, Average Loss: 5.5274\n",
      "Epoch 194/200, Average Loss: 5.5623\n",
      "Epoch 195/200, Average Loss: 5.6240\n",
      "Epoch 196/200, Average Loss: 5.6273\n",
      "Epoch 197/200, Average Loss: 5.8268\n",
      "Epoch 198/200, Average Loss: 6.1949\n",
      "Epoch 199/200, Average Loss: 6.7657\n",
      "Epoch 200/200, Average Loss: 5.5094\n"
     ]
    }
   ],
   "source": [
    "# Training loop\n",
    "epochs = 200\n",
    "for epoch in range(epochs):\n",
    "\n",
    "    model.train()\n",
    "    total_loss = 0  # Initialize total loss for the epoch\n",
    "\n",
    "    for batch_X, batch_y in train_loader:\n",
    "\n",
    "        optimizer.zero_grad()\n",
    "        predictions = model(batch_X)\n",
    "\n",
    "        loss = criterion(predictions, batch_y)\n",
    "\n",
    "        loss.backward()\n",
    "        \n",
    "        optimizer.step()\n",
    "\n",
    "        total_loss += loss.item()  # Accumulate the loss for each batch\n",
    "\n",
    "    average_loss = total_loss / len(train_loader)  # Compute the average loss for the epoch    \n",
    "    print(f'Epoch {epoch+1}/{epochs}, Average Loss: {average_loss:.4f}')\n"
   ]
  },
  {
   "cell_type": "code",
   "execution_count": 16,
   "id": "b23c8163",
   "metadata": {},
   "outputs": [
    {
     "name": "stdout",
     "output_type": "stream",
     "text": [
      "Test Loss: 4.4444\n"
     ]
    }
   ],
   "source": [
    "\n",
    "model.eval()\n",
    "\n",
    "with torch.no_grad():\n",
    "    test_predictions = model(X_test_tensor)\n",
    "    test_loss = criterion(\n",
    "        test_predictions, y_test_tensor)\n",
    "    print(f'Test Loss: {test_loss.item():.4f}')"
   ]
  },
  {
   "cell_type": "code",
   "execution_count": 17,
   "id": "5af858ea",
   "metadata": {},
   "outputs": [
    {
     "data": {
      "text/plain": [
       "[tensor([[432.3608],\n",
       "         [504.6989],\n",
       "         [315.9478],\n",
       "         [493.2118],\n",
       "         [484.0643],\n",
       "         [476.5040],\n",
       "         [427.9778],\n",
       "         [530.5450],\n",
       "         [313.8345],\n",
       "         [362.4818],\n",
       "         [347.7787],\n",
       "         [407.8103]]),\n",
       " tensor([[430.4150],\n",
       "         [500.0000],\n",
       "         [316.7512],\n",
       "         [490.2917],\n",
       "         [487.6102],\n",
       "         [477.7354],\n",
       "         [420.0000],\n",
       "         [535.8058],\n",
       "         [314.3954],\n",
       "         [365.5778],\n",
       "         [350.0000],\n",
       "         [426.8807]])]"
      ]
     },
     "execution_count": 17,
     "metadata": {},
     "output_type": "execute_result"
    }
   ],
   "source": [
    "[test_predictions, y_test_tensor]"
   ]
  },
  {
   "cell_type": "code",
   "execution_count": 18,
   "id": "d1faa338",
   "metadata": {},
   "outputs": [],
   "source": [
    "# Print weights and biases for each layer in the model\n",
    "def print_weights_and_biases(model):\n",
    "    for name, param in model.named_parameters():\n",
    "        if param.requires_grad:\n",
    "            print(f\"Layer: {name}\")\n",
    "            print(f\"Values:\\n{param.data}\\n\")"
   ]
  },
  {
   "cell_type": "code",
   "execution_count": 19,
   "id": "64e196a2",
   "metadata": {},
   "outputs": [
    {
     "name": "stdout",
     "output_type": "stream",
     "text": [
      "Layer: architecture.0.weight\n",
      "Values:\n",
      "tensor([[ 0.6395, -0.1559, -0.3173],\n",
      "        [ 0.4803, -0.3384,  0.0172],\n",
      "        [-0.1856, -0.7407,  0.1502],\n",
      "        [-0.0946,  0.3774,  0.2287],\n",
      "        [ 0.6481,  0.2668,  0.0508],\n",
      "        [ 0.2245, -0.5593,  0.0544],\n",
      "        [ 0.5894, -0.1561, -0.0271],\n",
      "        [-0.0228,  0.6499,  0.0611],\n",
      "        [ 0.3157,  0.3362,  0.4082],\n",
      "        [ 0.3397, -0.2157,  0.2822],\n",
      "        [-0.0521, -0.3957, -0.3049],\n",
      "        [-0.1910, -0.1263, -0.4925],\n",
      "        [ 0.0632,  0.1868,  0.3984],\n",
      "        [ 0.1499, -0.4844, -0.1011],\n",
      "        [ 0.5717, -0.2770,  0.1730],\n",
      "        [ 0.2432,  0.0573, -0.5822],\n",
      "        [-0.6204,  0.0244, -0.1243],\n",
      "        [-0.0740,  0.0660,  0.1061],\n",
      "        [ 0.0230,  0.6067,  0.6655],\n",
      "        [ 0.0777,  0.0628, -0.1876],\n",
      "        [-0.0547, -0.3713,  0.0699],\n",
      "        [-0.5774,  0.1809, -0.4490],\n",
      "        [-0.6641,  0.1896, -0.1643],\n",
      "        [-0.5213, -0.0918, -0.1500],\n",
      "        [ 0.4914,  0.1941,  0.1873],\n",
      "        [-0.1311, -0.0365, -0.2804],\n",
      "        [ 0.3163, -0.1052,  0.0552],\n",
      "        [ 0.2660,  0.2916, -0.0130],\n",
      "        [ 0.4117, -0.3523,  0.1955],\n",
      "        [ 0.0143, -0.3612, -0.3466],\n",
      "        [ 0.3497, -0.5485,  0.3294],\n",
      "        [ 0.2671,  0.0675,  0.2432]])\n",
      "\n",
      "Layer: architecture.0.bias\n",
      "Values:\n",
      "tensor([ 0.6457,  1.3767,  1.5560,  1.2243,  0.0108,  1.4353,  1.4571,  1.4371,\n",
      "         1.3345,  1.5322, -0.6030,  1.5198,  0.9165,  0.7328,  1.7376,  0.3919,\n",
      "         0.9511, -0.4541,  1.2838,  0.5465,  0.8174,  0.5014,  1.1905,  1.5486,\n",
      "         0.1446,  1.6549,  0.8573, -0.4518,  1.6392, -0.5627,  0.3829,  1.0257])\n",
      "\n",
      "Layer: architecture.2.weight\n",
      "Values:\n",
      "tensor([[ 0.3729,  0.8112,  0.6812,  ..., -0.0626, -0.1189,  0.2817],\n",
      "        [ 0.2130,  0.7175,  0.9278,  ..., -0.0532, -0.1904,  0.2817],\n",
      "        [ 0.1036,  0.5430,  0.8692,  ...,  0.0860,  0.0277,  0.3625],\n",
      "        ...,\n",
      "        [ 0.2690,  0.6022,  0.9767,  ..., -0.1240, -0.1906,  0.3337],\n",
      "        [ 0.0960,  0.0096, -0.0918,  ..., -0.1637,  0.1478, -0.1462],\n",
      "        [ 0.2469,  0.5892,  0.8849,  ...,  0.2094, -0.1896,  0.3866]])\n",
      "\n",
      "Layer: architecture.2.bias\n",
      "Values:\n",
      "tensor([ 0.9295,  1.0279,  1.0724, -0.0746,  0.8777, -0.0680, -0.1158, -0.1373,\n",
      "         0.0031, -0.1929, -0.1700,  0.0181,  0.9773, -0.0524, -0.0456,  0.7455,\n",
      "        -0.1198,  0.0655,  0.9470,  0.7900, -0.0895, -0.1317,  0.7685, -0.2903,\n",
      "         0.0475,  0.8770,  0.9944,  0.8491,  0.9427,  0.9493,  0.9167, -0.1669,\n",
      "         0.8885,  0.9186,  0.9609,  0.9441,  0.7548,  0.7623, -0.1819, -0.0027,\n",
      "        -0.0923,  0.8181,  0.9160, -0.1417, -0.0347,  0.9194,  1.0163,  0.8651,\n",
      "         0.8715, -0.1910, -0.1507, -0.1006,  0.9093,  1.0025,  0.9870, -0.0952,\n",
      "         0.7049,  0.9886,  0.9186,  0.7198, -0.0331,  0.8996,  0.0145,  0.8489])\n",
      "\n",
      "Layer: architecture.4.weight\n",
      "Values:\n",
      "tensor([[ 0.6785,  0.6697,  0.6482,  0.0192,  0.6472, -0.0445,  0.0228, -0.0332,\n",
      "          0.0068, -0.0267,  0.0086,  0.0497,  0.6035, -0.0268, -0.0037,  0.6437,\n",
      "         -0.0452, -0.0278,  0.6401,  0.6643,  0.0345,  0.0079,  0.6844,  0.0606,\n",
      "          0.0556,  0.6139,  0.6728,  0.6114,  0.6941,  0.6773,  0.4914,  0.0614,\n",
      "          0.6309,  0.6859,  0.6474,  0.6480,  0.6607,  0.6373,  0.0147, -0.0131,\n",
      "         -0.0259,  0.6636,  0.6488,  0.0439, -0.0011,  0.6799,  0.7034,  0.6668,\n",
      "          0.6278, -0.0406, -0.0274, -0.0366,  0.7063,  0.6518,  0.6346, -0.0024,\n",
      "          0.6715,  0.7150,  0.6173,  0.7037, -0.1065,  0.6485,  0.0233,  0.6158]])\n",
      "\n",
      "Layer: architecture.4.bias\n",
      "Values:\n",
      "tensor([0.6144])\n",
      "\n"
     ]
    }
   ],
   "source": [
    "# Call the function to print weights and biases\n",
    "print_weights_and_biases(model)"
   ]
  },
  {
   "cell_type": "code",
   "execution_count": 20,
   "id": "b0e39717",
   "metadata": {},
   "outputs": [],
   "source": [
    "myData = [[90, 12, 52],\n",
    "          [83, 15, 50],\n",
    "          [100, 2, 90]]\n",
    "\n",
    "myData_transformed = scaler.transform(myData)\n",
    "\n",
    "myData_tensor= torch.tensor(\n",
    "    myData_transformed, dtype=torch.float32)\n"
   ]
  },
  {
   "cell_type": "code",
   "execution_count": 21,
   "id": "65401cba-08cf-42d4-8f1f-235517e9ff1c",
   "metadata": {},
   "outputs": [],
   "source": [
    "model.eval()\n",
    "with torch.no_grad():\n",
    "    predictions = model(myData_tensor)\n"
   ]
  },
  {
   "cell_type": "code",
   "execution_count": 22,
   "id": "9c2f5801-777d-49cf-8acb-bbfb47169319",
   "metadata": {},
   "outputs": [
    {
     "data": {
      "text/plain": [
       "tensor([[489.8164],\n",
       "        [466.1120],\n",
       "        [641.5770]])"
      ]
     },
     "execution_count": 22,
     "metadata": {},
     "output_type": "execute_result"
    }
   ],
   "source": [
    "predictions"
   ]
  },
  {
   "cell_type": "code",
   "execution_count": 23,
   "id": "698087e7-dd54-4fc2-bdab-e56d03e7eb79",
   "metadata": {},
   "outputs": [
    {
     "data": {
      "text/plain": [
       "[[90, 12, 52], [83, 15, 50], [100, 2, 90]]"
      ]
     },
     "execution_count": 23,
     "metadata": {},
     "output_type": "execute_result"
    }
   ],
   "source": [
    "myData"
   ]
  },
  {
   "cell_type": "code",
   "execution_count": 24,
   "id": "f17016ba-d822-469d-9a3d-7e7fa4afaae0",
   "metadata": {},
   "outputs": [
    {
     "data": {
      "text/plain": [
       "array([[ 0.53314162, -1.42914842,  0.42526729],\n",
       "       [ 0.18871365, -0.98567586,  0.22595528],\n",
       "       [ 1.02518157, -2.90739028,  4.21219547]])"
      ]
     },
     "execution_count": 24,
     "metadata": {},
     "output_type": "execute_result"
    }
   ],
   "source": [
    "myData_transformed"
   ]
  },
  {
   "cell_type": "code",
   "execution_count": null,
   "id": "8e79616d-7ec1-4fd3-ab96-f673a3cbc9bd",
   "metadata": {},
   "outputs": [],
   "source": []
  }
 ],
 "metadata": {
  "kernelspec": {
   "display_name": "Python 3 (ipykernel)",
   "language": "python",
   "name": "python3"
  },
  "language_info": {
   "codemirror_mode": {
    "name": "ipython",
    "version": 3
   },
   "file_extension": ".py",
   "mimetype": "text/x-python",
   "name": "python",
   "nbconvert_exporter": "python",
   "pygments_lexer": "ipython3",
   "version": "3.11.4"
  }
 },
 "nbformat": 4,
 "nbformat_minor": 5
}
